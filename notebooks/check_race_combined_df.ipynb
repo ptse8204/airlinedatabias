{
  "cells": [
    {
      "cell_type": "markdown",
      "source": [
        "# Initial Race EDA check\n",
        "\n",
        "This is a file that show case checking different type of race bias showing in the dataset.\n",
        "\n",
        "Note that the code itself is not well documented, the results are however, accurate"
      ],
      "metadata": {
        "id": "FyB5m0UfwC8m"
      }
    },
    {
      "cell_type": "code",
      "execution_count": null,
      "metadata": {
        "id": "Bek8Sl_5M4k5"
      },
      "outputs": [],
      "source": [
        "#@title Google Collab only\n",
        "import sys\n",
        "sys.path.insert(0,'/content')"
      ]
    },
    {
      "cell_type": "markdown",
      "metadata": {
        "id": "zN797w6sMCjW"
      },
      "source": [
        "## Importing dependency"
      ]
    },
    {
      "cell_type": "code",
      "execution_count": null,
      "metadata": {
        "id": "QTMTva8amU3k"
      },
      "outputs": [],
      "source": [
        "!pip install cpi"
      ]
    },
    {
      "cell_type": "code",
      "execution_count": null,
      "metadata": {
        "id": "OSkfobosLWFo"
      },
      "outputs": [],
      "source": [
        "import coupon\n",
        "import other\n",
        "import ticket\n",
        "import pandas as pd\n",
        "import matplotlib.pyplot as plt"
      ]
    },
    {
      "cell_type": "code",
      "execution_count": null,
      "metadata": {
        "colab": {
          "base_uri": "https://localhost:8080/"
        },
        "id": "ZctWMaxpcMHC",
        "outputId": "e5c544c5-04ea-48d2-f6a0-86d2b3079442"
      },
      "outputs": [
        {
          "name": "stdout",
          "output_type": "stream",
          "text": [
            "Archive:  /content/drive/MyDrive/UCSD/DSC180B/Airline Data/Coupon/Origin_and_Destination_Survey_DB1BCoupon_2019_1.zip\n",
            "  inflating: Origin_and_Destination_Survey_DB1BCoupon_2019_1.csv  \n",
            "  inflating: readme.html             \n",
            "Archive:  /content/drive/MyDrive/UCSD/DSC180B/Airline Data/Ticket/Origin_and_Destination_Survey_DB1BTicket_2019_1.zip\n",
            "  inflating: Origin_and_Destination_Survey_DB1BTicket_2019_1.csv  \n",
            "  inflating: readme.html             \n"
          ]
        }
      ],
      "source": [
        "!unzip -o /content/drive/MyDrive/UCSD/DSC180B/Airline\\ Data/Coupon/Origin_and_Destination_Survey_DB1BCoupon_2019_1.zip\n",
        "!unzip -o /content/drive/MyDrive/UCSD/DSC180B/Airline\\ Data/Ticket/Origin_and_Destination_Survey_DB1BTicket_2019_1.zip"
      ]
    },
    {
      "cell_type": "code",
      "execution_count": null,
      "metadata": {
        "colab": {
          "background_save": true
        },
        "id": "uFpUpek8caKq"
      },
      "outputs": [],
      "source": [
        "coupon_df = pd.read_csv(\"/content/Origin_and_Destination_Survey_DB1BCoupon_2019_1.csv\")\n",
        "ticket_df = pd.read_csv(\"/content/Origin_and_Destination_Survey_DB1BTicket_2019_1.csv\")"
      ]
    },
    {
      "cell_type": "code",
      "execution_count": null,
      "metadata": {
        "colab": {
          "background_save": true
        },
        "id": "0xqjI6nKcXgL"
      },
      "outputs": [],
      "source": [
        "combined = other.gen_ticket_coupon(ticket_df, coupon_df)"
      ]
    },
    {
      "cell_type": "code",
      "execution_count": null,
      "metadata": {
        "colab": {
          "background_save": true
        },
        "id": "Io9d4_OmcwqI"
      },
      "outputs": [],
      "source": [
        "combined_filtered_FPM = ticket.filter_ticket_df_outliers_FPM(combined)\n",
        "filter_combined = ticket.filter_ticket_df_outliers_Itin(combined_filtered_FPM)"
      ]
    },
    {
      "cell_type": "markdown",
      "metadata": {
        "id": "UAGm3Q-cczl_"
      },
      "source": [
        "Grabbing Race Data"
      ]
    },
    {
      "cell_type": "code",
      "execution_count": null,
      "metadata": {
        "colab": {
          "background_save": true
        },
        "id": "xKQkAJCwcxtZ"
      },
      "outputs": [],
      "source": [
        "race_city_code = pd.read_csv(\n",
        "    \"/content/drive/MyDrive/UCSD/DSC180B/Airline Data/race_city_id.csv\")"
      ]
    },
    {
      "cell_type": "code",
      "execution_count": null,
      "metadata": {
        "colab": {
          "background_save": true
        },
        "id": "hcA2QOJYlMyH",
        "outputId": "95a5ad47-c359-47d0-ccb7-7b5a805e4d7c"
      },
      "outputs": [
        {
          "data": {
            "text/html": [
              "\n",
              "  <div id=\"df-4cca16d7-34f1-4633-b297-756b07bc30b2\">\n",
              "    <div class=\"colab-df-container\">\n",
              "      <div>\n",
              "<style scoped>\n",
              "    .dataframe tbody tr th:only-of-type {\n",
              "        vertical-align: middle;\n",
              "    }\n",
              "\n",
              "    .dataframe tbody tr th {\n",
              "        vertical-align: top;\n",
              "    }\n",
              "\n",
              "    .dataframe thead th {\n",
              "        text-align: right;\n",
              "    }\n",
              "</style>\n",
              "<table border=\"1\" class=\"dataframe\">\n",
              "  <thead>\n",
              "    <tr style=\"text-align: right;\">\n",
              "      <th></th>\n",
              "      <th>Unnamed: 0</th>\n",
              "      <th>Code</th>\n",
              "      <th>metro</th>\n",
              "      <th>white</th>\n",
              "      <th>non-white</th>\n",
              "    </tr>\n",
              "  </thead>\n",
              "  <tbody>\n",
              "    <tr>\n",
              "      <th>0</th>\n",
              "      <td>0</td>\n",
              "      <td>30135</td>\n",
              "      <td>Allentown, PA</td>\n",
              "      <td>0.693896</td>\n",
              "      <td>0.306104</td>\n",
              "    </tr>\n",
              "    <tr>\n",
              "      <th>1</th>\n",
              "      <td>1</td>\n",
              "      <td>30136</td>\n",
              "      <td>Abilene, TX</td>\n",
              "      <td>0.624967</td>\n",
              "      <td>0.375033</td>\n",
              "    </tr>\n",
              "    <tr>\n",
              "      <th>2</th>\n",
              "      <td>2</td>\n",
              "      <td>30140</td>\n",
              "      <td>Albuquerque, NM</td>\n",
              "      <td>0.380995</td>\n",
              "      <td>0.619005</td>\n",
              "    </tr>\n",
              "    <tr>\n",
              "      <th>3</th>\n",
              "      <td>3</td>\n",
              "      <td>30146</td>\n",
              "      <td>Albany, GA</td>\n",
              "      <td>0.409644</td>\n",
              "      <td>0.590356</td>\n",
              "    </tr>\n",
              "    <tr>\n",
              "      <th>4</th>\n",
              "      <td>4</td>\n",
              "      <td>30155</td>\n",
              "      <td>Waco, TX</td>\n",
              "      <td>0.534684</td>\n",
              "      <td>0.465316</td>\n",
              "    </tr>\n",
              "  </tbody>\n",
              "</table>\n",
              "</div>\n",
              "      <button class=\"colab-df-convert\" onclick=\"convertToInteractive('df-4cca16d7-34f1-4633-b297-756b07bc30b2')\"\n",
              "              title=\"Convert this dataframe to an interactive table.\"\n",
              "              style=\"display:none;\">\n",
              "        \n",
              "  <svg xmlns=\"http://www.w3.org/2000/svg\" height=\"24px\"viewBox=\"0 0 24 24\"\n",
              "       width=\"24px\">\n",
              "    <path d=\"M0 0h24v24H0V0z\" fill=\"none\"/>\n",
              "    <path d=\"M18.56 5.44l.94 2.06.94-2.06 2.06-.94-2.06-.94-.94-2.06-.94 2.06-2.06.94zm-11 1L8.5 8.5l.94-2.06 2.06-.94-2.06-.94L8.5 2.5l-.94 2.06-2.06.94zm10 10l.94 2.06.94-2.06 2.06-.94-2.06-.94-.94-2.06-.94 2.06-2.06.94z\"/><path d=\"M17.41 7.96l-1.37-1.37c-.4-.4-.92-.59-1.43-.59-.52 0-1.04.2-1.43.59L10.3 9.45l-7.72 7.72c-.78.78-.78 2.05 0 2.83L4 21.41c.39.39.9.59 1.41.59.51 0 1.02-.2 1.41-.59l7.78-7.78 2.81-2.81c.8-.78.8-2.07 0-2.86zM5.41 20L4 18.59l7.72-7.72 1.47 1.35L5.41 20z\"/>\n",
              "  </svg>\n",
              "      </button>\n",
              "      \n",
              "  <style>\n",
              "    .colab-df-container {\n",
              "      display:flex;\n",
              "      flex-wrap:wrap;\n",
              "      gap: 12px;\n",
              "    }\n",
              "\n",
              "    .colab-df-convert {\n",
              "      background-color: #E8F0FE;\n",
              "      border: none;\n",
              "      border-radius: 50%;\n",
              "      cursor: pointer;\n",
              "      display: none;\n",
              "      fill: #1967D2;\n",
              "      height: 32px;\n",
              "      padding: 0 0 0 0;\n",
              "      width: 32px;\n",
              "    }\n",
              "\n",
              "    .colab-df-convert:hover {\n",
              "      background-color: #E2EBFA;\n",
              "      box-shadow: 0px 1px 2px rgba(60, 64, 67, 0.3), 0px 1px 3px 1px rgba(60, 64, 67, 0.15);\n",
              "      fill: #174EA6;\n",
              "    }\n",
              "\n",
              "    [theme=dark] .colab-df-convert {\n",
              "      background-color: #3B4455;\n",
              "      fill: #D2E3FC;\n",
              "    }\n",
              "\n",
              "    [theme=dark] .colab-df-convert:hover {\n",
              "      background-color: #434B5C;\n",
              "      box-shadow: 0px 1px 3px 1px rgba(0, 0, 0, 0.15);\n",
              "      filter: drop-shadow(0px 1px 2px rgba(0, 0, 0, 0.3));\n",
              "      fill: #FFFFFF;\n",
              "    }\n",
              "  </style>\n",
              "\n",
              "      <script>\n",
              "        const buttonEl =\n",
              "          document.querySelector('#df-4cca16d7-34f1-4633-b297-756b07bc30b2 button.colab-df-convert');\n",
              "        buttonEl.style.display =\n",
              "          google.colab.kernel.accessAllowed ? 'block' : 'none';\n",
              "\n",
              "        async function convertToInteractive(key) {\n",
              "          const element = document.querySelector('#df-4cca16d7-34f1-4633-b297-756b07bc30b2');\n",
              "          const dataTable =\n",
              "            await google.colab.kernel.invokeFunction('convertToInteractive',\n",
              "                                                     [key], {});\n",
              "          if (!dataTable) return;\n",
              "\n",
              "          const docLinkHtml = 'Like what you see? Visit the ' +\n",
              "            '<a target=\"_blank\" href=https://colab.research.google.com/notebooks/data_table.ipynb>data table notebook</a>'\n",
              "            + ' to learn more about interactive tables.';\n",
              "          element.innerHTML = '';\n",
              "          dataTable['output_type'] = 'display_data';\n",
              "          await google.colab.output.renderOutput(dataTable, element);\n",
              "          const docLink = document.createElement('div');\n",
              "          docLink.innerHTML = docLinkHtml;\n",
              "          element.appendChild(docLink);\n",
              "        }\n",
              "      </script>\n",
              "    </div>\n",
              "  </div>\n",
              "  "
            ],
            "text/plain": [
              "   Unnamed: 0   Code            metro     white  non-white\n",
              "0           0  30135    Allentown, PA  0.693896   0.306104\n",
              "1           1  30136      Abilene, TX  0.624967   0.375033\n",
              "2           2  30140  Albuquerque, NM  0.380995   0.619005\n",
              "3           3  30146       Albany, GA  0.409644   0.590356\n",
              "4           4  30155         Waco, TX  0.534684   0.465316"
            ]
          },
          "execution_count": 13,
          "metadata": {},
          "output_type": "execute_result"
        }
      ],
      "source": [
        "race_city_code.head()"
      ]
    },
    {
      "cell_type": "markdown",
      "metadata": {
        "id": "Is_gOiRjldrh"
      },
      "source": [
        "Modified Income fucntion to meet race"
      ]
    },
    {
      "cell_type": "code",
      "execution_count": null,
      "metadata": {
        "id": "wliQ6y6ulSJR"
      },
      "outputs": [],
      "source": [
        "# This shows the data statistics of city areas that has \n",
        "# median income in the bottom 25 percentile\n",
        "def bottom_25_data(combined, census_df):\n",
        "  bot_25_median = census_df[\"non-white\"].quantile(.25)\n",
        "  bottom_25_origins = combined[[\"FarePerMile\", \"RPCarrier\", \"OriginCityMarketID\", \n",
        "                                \"MilesFlown\", \"SeqNum\"]].merge(\n",
        "    census_df[census_df[\"non-white\"] <= bot_25_median][[\"Code\", \"non-white\"]], \n",
        "    left_on = \"OriginCityMarketID\", right_on=\"Code\")\n",
        "  bottom_25_dest = combined[[\"FarePerMile\", \"RPCarrier\", \"DestCityMarketID\", \n",
        "                             \"MilesFlown\", \"SeqNum\"]].merge(\n",
        "    census_df[census_df[\"non-white\"] <= bot_25_median][[\"Code\", \"non-white\"]], \n",
        "    left_on = \"DestCityMarketID\", right_on=\"Code\")\n",
        "  print(\"Flights originate city areas that has non-white population in the bottom 25 percentile\")\n",
        "  print(\"Mean of FarePerMile : \", bottom_25_origins.FarePerMile.mean())\n",
        "  print(\"Mean of MilesFlown : \", bottom_25_origins.MilesFlown.mean())\n",
        "  print(\"Mean of Average Segments:\", bottom_25_origins.SeqNum.mean())\n",
        "  print(\"FarePerMile by carrier:\")\n",
        "  bottom_25_origins[[\"FarePerMile\", \"RPCarrier\"]].groupby(\"RPCarrier\").mean()[\"FarePerMile\"].plot(kind=\"bar\")\n",
        "  plt.show()\n",
        "  print(\"FarePerMile Distribution:\")\n",
        "  bottom_25_origins.FarePerMile.hist()\n",
        "  plt.show()\n",
        "  print(\"Flights destination is city areas that has non-white population in the bottom 25 percentile\")\n",
        "  print(\"Mean of FarePerMile : \", bottom_25_dest.FarePerMile.mean())\n",
        "  print(\"Mean of MilesFlown : \", bottom_25_dest.MilesFlown.mean())\n",
        "  print(\"Mean of Average Segments:\", bottom_25_dest.SeqNum.mean())\n",
        "  print(\"FarePerMile by carrier:\")\n",
        "  bottom_25_dest[[\"FarePerMile\", \"RPCarrier\"]].groupby(\"RPCarrier\").mean()[\"FarePerMile\"].plot(kind=\"bar\")\n",
        "  plt.show()\n",
        "  print(\"FarePerMile Distribution:\")\n",
        "  bottom_25_dest.FarePerMile.hist()\n",
        "  plt.show()"
      ]
    },
    {
      "cell_type": "code",
      "execution_count": null,
      "metadata": {
        "colab": {
          "base_uri": "https://localhost:8080/",
          "height": 1000
        },
        "id": "j7NynLKTlvm3",
        "outputId": "fff2aaa1-07f3-42e5-c9de-648253dc7085"
      },
      "outputs": [
        {
          "output_type": "stream",
          "name": "stdout",
          "text": [
            "Flights originate city areas that has non-white population in the bottom 25 percentile\n",
            "Mean of FarePerMile :  0.243269340608236\n",
            "Mean of MilesFlown :  2164.5521546331656\n",
            "Mean of Average Segments: 3.00642558180663\n",
            "FarePerMile by carrier:\n"
          ]
        },
        {
          "output_type": "display_data",
          "data": {
            "text/plain": [
              "<Figure size 432x288 with 1 Axes>"
            ],
            "image/png": "[encoded data removed]"
          },
          "metadata": {
            "needs_background": "light"
          }
        },
        {
          "output_type": "stream",
          "name": "stdout",
          "text": [
            "FarePerMile Distribution:\n"
          ]
        },
        {
          "output_type": "display_data",
          "data": {
            "text/plain": [
              "<Figure size 432x288 with 1 Axes>"
            ],
            "image/png": "[encoded data removed]"
          },
          "metadata": {
            "needs_background": "light"
          }
        },
        {
          "output_type": "stream",
          "name": "stdout",
          "text": [
            "Flights destination is city areas that has non-white population in the bottom 25 percentile\n",
            "Mean of FarePerMile :  0.24537950092133606\n",
            "Mean of MilesFlown :  2155.2805792738313\n",
            "Mean of Average Segments: 2.9938296436635436\n",
            "FarePerMile by carrier:\n"
          ]
        },
        {
          "output_type": "display_data",
          "data": {
            "text/plain": [
              "<Figure size 432x288 with 1 Axes>"
            ],
            "image/png": "[encoded data removed]"
          },
          "metadata": {
            "needs_background": "light"
          }
        },
        {
          "output_type": "stream",
          "name": "stdout",
          "text": [
            "FarePerMile Distribution:\n"
          ]
        },
        {
          "output_type": "display_data",
          "data": {
            "text/plain": [
              "<Figure size 432x288 with 1 Axes>"
            ],
            "image/png": "[encoded data removed]"
          },
          "metadata": {
            "needs_background": "light"
          }
        }
      ],
      "source": [
        "bottom_25_data(filter_combined, race_city_code)"
      ]
    },
    {
      "cell_type": "code",
      "execution_count": null,
      "metadata": {
        "id": "9aO2A5cAl2yC"
      },
      "outputs": [],
      "source": [
        "# This shows the data statistics of city areas that has \n",
        "# median income in the upper 25 percentile\n",
        "def upper_25_data(combined, census_df):\n",
        "    bot_25_median = census_df[\"non-white\"].quantile(.75)\n",
        "    upper_25_origins = combined[[\"FarePerMile\", \"RPCarrier\", \"OriginCityMarketID\", \n",
        "                                  \"MilesFlown\", \"SeqNum\"]].merge(\n",
        "      census_df[census_df[\"non-white\"] >= bot_25_median][[\"Code\", \"non-white\"]], \n",
        "      left_on = \"OriginCityMarketID\", right_on=\"Code\")\n",
        "    upper_25_dest = combined[[\"FarePerMile\", \"RPCarrier\", \"DestCityMarketID\", \n",
        "                               \"MilesFlown\", \"SeqNum\"]].merge(\n",
        "      census_df[census_df[\"non-white\"] >= bot_25_median][[\"Code\", \"non-white\"]], \n",
        "      left_on = \"DestCityMarketID\", right_on=\"Code\")\n",
        "    print(\"Flights originate city areas that has median income in the upper 25 percentile\")\n",
        "    print(\"Mean of FarePerMile : \", upper_25_origins.FarePerMile.mean())\n",
        "    print(\"Mean of MilesFlown : \", upper_25_origins.MilesFlown.mean())\n",
        "    print(\"Mean of Average Segments:\", upper_25_origins.SeqNum.mean())\n",
        "    print(\"FarePerMile by carrier:\")\n",
        "    upper_25_origins[[\"FarePerMile\", \"RPCarrier\"]].groupby(\"RPCarrier\").mean()[\"FarePerMile\"].plot(kind=\"bar\")\n",
        "    plt.show()\n",
        "    print(\"FarePerMile Distribution:\")\n",
        "    upper_25_origins.FarePerMile.hist()\n",
        "    plt.show()\n",
        "    print(\"Flights destination is city areas that has median income in the upper 25 percentile\")\n",
        "    print(\"Mean of FarePerMile : \", upper_25_dest.FarePerMile.mean())\n",
        "    print(\"Mean of MilesFlown : \", upper_25_dest.MilesFlown.mean())\n",
        "    print(\"Mean of Average Segments:\", upper_25_dest.SeqNum.mean())\n",
        "    print(\"FarePerMile by carrier:\")\n",
        "    upper_25_dest[[\"FarePerMile\", \"RPCarrier\"]].groupby(\"RPCarrier\").mean()[\"FarePerMile\"].plot(kind=\"bar\")\n",
        "    plt.show()\n",
        "    print(\"FarePerMile Distribution:\")\n",
        "    upper_25_dest.FarePerMile.hist()\n",
        "    plt.show()\n",
        "\n",
        "\n",
        "# This shows the flight statistics of city areas that has \n",
        "# with upper and lower 25th percentile as orgin and dest\n",
        "# and vice-versa\n",
        "def lower_and_upper_data(combined, census_df):\n",
        "    bot_25_median = census_df[\"non-white\"].quantile(.25)\n",
        "    up_25_median = census_df[\"non-white\"].quantile(.75)\n",
        "    origins = combined[[\"FarePerMile\", \"RPCarrier\", \"OriginCityMarketID\", \n",
        "                                  \"DestCityMarketID\", \"MilesFlown\", \"SeqNum\"]].merge(\n",
        "      census_df[census_df[\"non-white\"] <= bot_25_median][[\"Code\", \"non-white\"]], \n",
        "      left_on = \"OriginCityMarketID\", right_on=\"Code\")\n",
        "    origin_dest = origins.merge(\n",
        "      census_df[census_df[\"non-white\"] >= up_25_median][[\"Code\", \"non-white\"]], \n",
        "      left_on = \"DestCityMarketID\", right_on=\"Code\")\n",
        "    print(\"Flights originate bottom 25 to upper 25\")\n",
        "    print(\"Mean of FarePerMile : \", origin_dest.FarePerMile.mean())\n",
        "    print(\"Mean of MilesFlown : \", origin_dest.MilesFlown.mean())\n",
        "    print(\"Mean of Average Segments:\", origin_dest.SeqNum.mean())\n",
        "    print(\"FarePerMile by carrier:\")\n",
        "    origin_dest[[\"FarePerMile\", \"RPCarrier\"]].groupby(\"RPCarrier\").mean()[\"FarePerMile\"].plot(kind=\"bar\")\n",
        "    plt.show()\n",
        "    print(\"FarePerMile Distribution:\")\n",
        "    origin_dest.FarePerMile.hist()\n",
        "    plt.show()\n",
        "    origins = combined[[\"FarePerMile\", \"RPCarrier\", \"OriginCityMarketID\", \n",
        "                                  \"DestCityMarketID\", \"MilesFlown\", \"SeqNum\"]].merge(\n",
        "      census_df[census_df[\"non-white\"] >= up_25_median][[\"Code\", \"non-white\"]], \n",
        "      left_on = \"OriginCityMarketID\", right_on=\"Code\")\n",
        "    origin_dest = origins.merge(\n",
        "      census_df[census_df[\"non-white\"] <= bot_25_median][[\"Code\", \"non-white\"]], \n",
        "      left_on = \"DestCityMarketID\", right_on=\"Code\")\n",
        "    print(\"Flights originate upper 25 to bottom 25\")\n",
        "    print(\"Mean of FarePerMile : \", origin_dest.FarePerMile.mean())\n",
        "    print(\"Mean of MilesFlown : \", origin_dest.MilesFlown.mean())\n",
        "    print(\"Mean of Average Segments:\", origin_dest.SeqNum.mean())\n",
        "    print(\"FarePerMile by carrier:\")\n",
        "    origin_dest[[\"FarePerMile\", \"RPCarrier\"]].groupby(\"RPCarrier\").mean()[\"FarePerMile\"].plot(kind=\"bar\")\n",
        "    plt.show()\n",
        "    print(\"FarePerMile Distribution:\")\n",
        "    origin_dest.FarePerMile.hist()\n",
        "    plt.show()\n",
        "\n",
        "# This shows the flight statistics of city areas that has \n",
        "# with upper25 as both orgin and dest\n",
        "# and lower as both orgin and dest\n",
        "def double_low_high(combined, census_df):\n",
        "    bot_25_median = census_df[\"non-white\"].quantile(.25)\n",
        "    up_25_median = census_df[\"non-white\"].quantile(.75)\n",
        "    origins = combined[[\"FarePerMile\", \"RPCarrier\", \"OriginCityMarketID\", \n",
        "                                  \"DestCityMarketID\", \"MilesFlown\", \"SeqNum\"]].merge(\n",
        "      census_df[census_df[\"non-white\"] <= bot_25_median][[\"Code\", \"non-white\"]], \n",
        "      left_on = \"OriginCityMarketID\", right_on=\"Code\")\n",
        "    origin_dest = origins.merge(\n",
        "      census_df[census_df[\"non-white\"] <= bot_25_median][[\"Code\", \"non-white\"]], \n",
        "      left_on = \"DestCityMarketID\", right_on=\"Code\")\n",
        "    print(\"Flights originate and destin for bottom 25\")\n",
        "    print(\"Mean of FarePerMile : \", origin_dest.FarePerMile.mean())\n",
        "    print(\"Mean of MilesFlown : \", origin_dest.MilesFlown.mean())\n",
        "    print(\"Mean of Average Segments:\", origin_dest.SeqNum.mean())\n",
        "    print(\"FarePerMile by carrier:\")\n",
        "    origin_dest[[\"FarePerMile\", \"RPCarrier\"]].groupby(\"RPCarrier\").mean()[\"FarePerMile\"].plot(kind=\"bar\")\n",
        "    plt.show()\n",
        "    print(\"FarePerMile Distribution:\")\n",
        "    origin_dest.FarePerMile.hist()\n",
        "    plt.show()\n",
        "    origins = combined[[\"FarePerMile\", \"RPCarrier\", \"OriginCityMarketID\", \n",
        "                                  \"DestCityMarketID\", \"MilesFlown\", \"SeqNum\"]].merge(\n",
        "      census_df[census_df[\"non-white\"] >= up_25_median][[\"Code\", \"non-white\"]], \n",
        "      left_on = \"OriginCityMarketID\", right_on=\"Code\")\n",
        "    origin_dest = origins.merge(\n",
        "      census_df[census_df[\"non-white\"] >= up_25_median][[\"Code\", \"non-white\"]], \n",
        "      left_on = \"DestCityMarketID\", right_on=\"Code\")\n",
        "    print(\"Flights originate and destin for upper 25\")\n",
        "    print(\"Mean of FarePerMile : \", origin_dest.FarePerMile.mean())\n",
        "    print(\"Mean of MilesFlown : \", origin_dest.MilesFlown.mean())\n",
        "    print(\"Mean of Average Segments:\", origin_dest.SeqNum.mean())\n",
        "    print(\"FarePerMile by carrier:\")\n",
        "    origin_dest[[\"FarePerMile\", \"RPCarrier\"]].groupby(\"RPCarrier\").mean()[\"FarePerMile\"].plot(kind=\"bar\")\n",
        "    plt.show()\n",
        "    print(\"FarePerMile Distribution:\")\n",
        "    origin_dest.FarePerMile.hist()\n",
        "    plt.show()\n"
      ]
    },
    {
      "cell_type": "code",
      "source": [
        "upper_25_data(filter_combined, race_city_code)"
      ],
      "metadata": {
        "colab": {
          "base_uri": "https://localhost:8080/",
          "height": 1000
        },
        "id": "KzURLrBKoPmJ",
        "outputId": "9c31b6f3-446d-46d5-9cbd-6143111b7b1d"
      },
      "execution_count": null,
      "outputs": [
        {
          "output_type": "stream",
          "name": "stdout",
          "text": [
            "Flights originate city areas that has median income in the upper 25 percentile\n",
            "Mean of FarePerMile :  0.2403994816862265\n",
            "Mean of MilesFlown :  2118.628242010954\n",
            "Mean of Average Segments: 2.3033098525214624\n",
            "FarePerMile by carrier:\n"
          ]
        },
        {
          "output_type": "display_data",
          "data": {
            "text/plain": [
              "<Figure size 432x288 with 1 Axes>"
            ],
            "image/png": "[encoded data removed]"
          },
          "metadata": {
            "needs_background": "light"
          }
        },
        {
          "output_type": "stream",
          "name": "stdout",
          "text": [
            "FarePerMile Distribution:\n"
          ]
        },
        {
          "output_type": "display_data",
          "data": {
            "text/plain": [
              "<Figure size 432x288 with 1 Axes>"
            ],
            "image/png": "[encoded data removed]"
          },
          "metadata": {
            "needs_background": "light"
          }
        },
        {
          "output_type": "stream",
          "name": "stdout",
          "text": [
            "Flights destination is city areas that has median income in the upper 25 percentile\n",
            "Mean of FarePerMile :  0.23885056614397282\n",
            "Mean of MilesFlown :  2125.884939153599\n",
            "Mean of Average Segments: 2.309587092086941\n",
            "FarePerMile by carrier:\n"
          ]
        },
        {
          "output_type": "display_data",
          "data": {
            "text/plain": [
              "<Figure size 432x288 with 1 Axes>"
            ],
            "image/png": "[encoded data removed]"
          },
          "metadata": {
            "needs_background": "light"
          }
        },
        {
          "output_type": "stream",
          "name": "stdout",
          "text": [
            "FarePerMile Distribution:\n"
          ]
        },
        {
          "output_type": "display_data",
          "data": {
            "text/plain": [
              "<Figure size 432x288 with 1 Axes>"
            ],
            "image/png": "[encoded data removed]"
          },
          "metadata": {
            "needs_background": "light"
          }
        }
      ]
    },
    {
      "cell_type": "code",
      "source": [
        "lower_and_upper_data(filter_combined, race_city_code)"
      ],
      "metadata": {
        "colab": {
          "base_uri": "https://localhost:8080/",
          "height": 1000
        },
        "id": "jzofShcpoWC7",
        "outputId": "b69949b6-61c6-4c9d-ae7b-3eb8b367cdb8"
      },
      "execution_count": null,
      "outputs": [
        {
          "output_type": "stream",
          "name": "stdout",
          "text": [
            "Flights originate bottom 25 to upper 25\n",
            "Mean of FarePerMile :  0.24640424189307625\n",
            "Mean of MilesFlown :  1462.1580192813321\n",
            "Mean of Average Segments: 1.8640666082383874\n",
            "FarePerMile by carrier:\n"
          ]
        },
        {
          "output_type": "display_data",
          "data": {
            "text/plain": [
              "<Figure size 432x288 with 1 Axes>"
            ],
            "image/png": "[encoded data removed]"
          },
          "metadata": {
            "needs_background": "light"
          }
        },
        {
          "output_type": "stream",
          "name": "stdout",
          "text": [
            "FarePerMile Distribution:\n"
          ]
        },
        {
          "output_type": "display_data",
          "data": {
            "text/plain": [
              "<Figure size 432x288 with 1 Axes>"
            ],
            "image/png": "[encoded data removed]"
          },
          "metadata": {
            "needs_background": "light"
          }
        },
        {
          "output_type": "stream",
          "name": "stdout",
          "text": [
            "Flights originate upper 25 to bottom 25\n",
            "Mean of FarePerMile :  0.25849439029491733\n",
            "Mean of MilesFlown :  1445.1843965697553\n",
            "Mean of Average Segments: 1.85199749006484\n",
            "FarePerMile by carrier:\n"
          ]
        },
        {
          "output_type": "display_data",
          "data": {
            "text/plain": [
              "<Figure size 432x288 with 1 Axes>"
            ],
            "image/png": "[encoded data removed]"
          },
          "metadata": {
            "needs_background": "light"
          }
        },
        {
          "output_type": "stream",
          "name": "stdout",
          "text": [
            "FarePerMile Distribution:\n"
          ]
        },
        {
          "output_type": "display_data",
          "data": {
            "text/plain": [
              "<Figure size 432x288 with 1 Axes>"
            ],
            "image/png": "[encoded data removed]"
          },
          "metadata": {
            "needs_background": "light"
          }
        }
      ]
    },
    {
      "cell_type": "code",
      "source": [
        "double_low_high(filter_combined, race_city_code)"
      ],
      "metadata": {
        "colab": {
          "base_uri": "https://localhost:8080/",
          "height": 1000
        },
        "id": "mCSYRjJqoaKT",
        "outputId": "ef005286-8104-41f3-93bd-d508a6b2778e"
      },
      "execution_count": null,
      "outputs": [
        {
          "output_type": "stream",
          "name": "stdout",
          "text": [
            "Flights originate and destin for bottom 25\n",
            "Mean of FarePerMile :  0.23174142445317636\n",
            "Mean of MilesFlown :  2527.268650042338\n",
            "Mean of Average Segments: 3.517025507340139\n",
            "FarePerMile by carrier:\n"
          ]
        },
        {
          "output_type": "display_data",
          "data": {
            "text/plain": [
              "<Figure size 432x288 with 1 Axes>"
            ],
            "image/png": "[encoded data removed]"
          },
          "metadata": {
            "needs_background": "light"
          }
        },
        {
          "output_type": "stream",
          "name": "stdout",
          "text": [
            "FarePerMile Distribution:\n"
          ]
        },
        {
          "output_type": "display_data",
          "data": {
            "text/plain": [
              "<Figure size 432x288 with 1 Axes>"
            ],
            "image/png": "[encoded data removed]"
          },
          "metadata": {
            "needs_background": "light"
          }
        },
        {
          "output_type": "stream",
          "name": "stdout",
          "text": [
            "Flights originate and destin for upper 25\n",
            "Mean of FarePerMile :  0.24041510817252562\n",
            "Mean of MilesFlown :  2307.698645530361\n",
            "Mean of Average Segments: 2.508143582638622\n",
            "FarePerMile by carrier:\n"
          ]
        },
        {
          "output_type": "display_data",
          "data": {
            "text/plain": [
              "<Figure size 432x288 with 1 Axes>"
            ],
            "image/png": "[encoded data removed]"
          },
          "metadata": {
            "needs_background": "light"
          }
        },
        {
          "output_type": "stream",
          "name": "stdout",
          "text": [
            "FarePerMile Distribution:\n"
          ]
        },
        {
          "output_type": "display_data",
          "data": {
            "text/plain": [
              "<Figure size 432x288 with 1 Axes>"
            ],
            "image/png": "[encoded data removed]"
          },
          "metadata": {
            "needs_background": "light"
          }
        }
      ]
    },
    {
      "cell_type": "code",
      "source": [],
      "metadata": {
        "id": "qQ9LLDRwognE"
      },
      "execution_count": null,
      "outputs": []
    }
  ],
  "metadata": {
    "colab": {
      "machine_shape": "hm",
      "provenance": []
    },
    "gpuClass": "standard",
    "kernelspec": {
      "display_name": "Python 3",
      "name": "python3"
    },
    "language_info": {
      "name": "python"
    }
  },
  "nbformat": 4,
  "nbformat_minor": 0
}