{
  "nbformat": 4,
  "nbformat_minor": 0,
  "metadata": {
    "colab": {
      "provenance": []
    },
    "kernelspec": {
      "name": "python3",
      "display_name": "Python 3"
    },
    "language_info": {
      "name": "python"
    }
  },
  "cells": [
    {
      "cell_type": "markdown",
      "source": [
        "# Airfare EDA with Census Income\n",
        "\n",
        "This notebook would showcase how we use the functions to extract income related insights from the USDOT airfare dataset."
      ],
      "metadata": {
        "id": "UG6AIkGXLamW"
      }
    },
    {
      "cell_type": "code",
      "source": [
        "#@title Google Collab only\n",
        "import sys\n",
        "sys.path.insert(0,'/content')"
      ],
      "metadata": {
        "id": "Bek8Sl_5M4k5"
      },
      "execution_count": 1,
      "outputs": []
    },
    {
      "cell_type": "markdown",
      "source": [
        "## Importing dependency"
      ],
      "metadata": {
        "id": "zN797w6sMCjW"
      }
    },
    {
      "cell_type": "code",
      "execution_count": 2,
      "metadata": {
        "id": "OSkfobosLWFo"
      },
      "outputs": [],
      "source": [
        "import coupon\n",
        "import other\n",
        "import ticket\n",
        "import pandas as pd\n",
        "import matplotlib.pyplot as plt"
      ]
    },
    {
      "cell_type": "markdown",
      "source": [
        "## Importing dataset\n",
        "Note that in order for the below code to run, one must import a year, quarter matching coupon and ticket dataset.\n",
        "\n",
        "The dataset could be download on the link below:\n",
        "[Link to USDOT](https://www.transtats.bts.gov/tables.asp?QO_VQ=EFI&QO_anzr=Nv4yv0r)\n",
        "\n",
        "For demonstration purpose, we would be using the Q1 2019 data.\n",
        "Due to the large size of the dataset, it is recommended to do by quarter analysis, rather than an entire year (with the exception of 2020, as it has an unusually small amount of data with obvious reasons)"
      ],
      "metadata": {
        "id": "JRm9aZ64OBEB"
      }
    },
    {
      "cell_type": "code",
      "source": [
        "coupon_df = pd.read_csv(\"/content/Origin_and_Destination_Survey_DB1BCoupon_2019_1.csv\")\n",
        "ticket_df = pd.read_csv(\"/content/Origin_and_Destination_Survey_DB1BTicket_2019_1.csv\")"
      ],
      "metadata": {
        "id": "gsw7ildAOzI8"
      },
      "execution_count": 3,
      "outputs": []
    },
    {
      "cell_type": "markdown",
      "source": [
        "## Combining dataset\n",
        "\n",
        "In this report, we would use the combined dataset."
      ],
      "metadata": {
        "id": "yLJgvHl7PtQU"
      }
    },
    {
      "cell_type": "code",
      "source": [
        "combined = other.gen_ticket_coupon(ticket_df, coupon_df)"
      ],
      "metadata": {
        "id": "BuKietRQPoTp"
      },
      "execution_count": 4,
      "outputs": []
    },
    {
      "cell_type": "markdown",
      "source": [
        "The main reason for grabbing the combine dataset is that only the coupon dataset has the destination information, and only the ticket has the pricing data."
      ],
      "metadata": {
        "id": "ptbI2-goP600"
      }
    },
    {
      "cell_type": "code",
      "source": [
        "combined.head()"
      ],
      "metadata": {
        "colab": {
          "base_uri": "https://localhost:8080/",
          "height": 300
        },
        "id": "ZhnrYBR7P1v7",
        "outputId": "319aa81a-2000-4207-be75-0f7412bb9a50"
      },
      "execution_count": 5,
      "outputs": [
        {
          "output_type": "execute_result",
          "data": {
            "text/plain": [
              "        ItinID  Coupons_x  Year  Quarter Origin  OriginCityMarketID  \\\n",
              "0   2019174441          1  2019        1    MCI               33198   \n",
              "1   2019179426          1  2019        1    MSP               31650   \n",
              "2   2019181148          1  2019        1    MSP               31650   \n",
              "3  20191106757          1  2019        1    TYS               35412   \n",
              "4  20191126267          1  2019        1    ATL               30397   \n",
              "\n",
              "  OriginState  RoundTrip  OnLine  DollarCred  ...  BulkFare MilesFlown  \\\n",
              "0          MO        0.0     1.0           1  ...       0.0     1107.0   \n",
              "1          MN        0.0     1.0           1  ...       0.0     1008.0   \n",
              "2          MN        0.0     1.0           1  ...       0.0      448.0   \n",
              "3          TN        0.0     1.0           1  ...       0.0      648.0   \n",
              "4          GA        0.0     1.0           1  ...       0.0      731.0   \n",
              "\n",
              "   ItinGeoType  SeqNum  Coupons_y  DestCityMarketID  Dest  DestState  \\\n",
              "0            2       1          1             31703   LGA         NY   \n",
              "1            2       1          1             31703   EWR         NJ   \n",
              "2            2       1          1             31123   STL         MO   \n",
              "3            2       1          1             31703   LGA         NY   \n",
              "4            2       1          1             30194   DFW         TX   \n",
              "\n",
              "   CouponGeoType  FareClass  \n",
              "0              2          X  \n",
              "1              2          X  \n",
              "2              2          X  \n",
              "3              2          X  \n",
              "4              2          X  \n",
              "\n",
              "[5 rows x 24 columns]"
            ],
            "text/html": [
              "\n",
              "  <div id=\"df-7e4df48d-f497-4ed2-a0e2-2b7a6b9b731e\">\n",
              "    <div class=\"colab-df-container\">\n",
              "      <div>\n",
              "<style scoped>\n",
              "    .dataframe tbody tr th:only-of-type {\n",
              "        vertical-align: middle;\n",
              "    }\n",
              "\n",
              "    .dataframe tbody tr th {\n",
              "        vertical-align: top;\n",
              "    }\n",
              "\n",
              "    .dataframe thead th {\n",
              "        text-align: right;\n",
              "    }\n",
              "</style>\n",
              "<table border=\"1\" class=\"dataframe\">\n",
              "  <thead>\n",
              "    <tr style=\"text-align: right;\">\n",
              "      <th></th>\n",
              "      <th>ItinID</th>\n",
              "      <th>Coupons_x</th>\n",
              "      <th>Year</th>\n",
              "      <th>Quarter</th>\n",
              "      <th>Origin</th>\n",
              "      <th>OriginCityMarketID</th>\n",
              "      <th>OriginState</th>\n",
              "      <th>RoundTrip</th>\n",
              "      <th>OnLine</th>\n",
              "      <th>DollarCred</th>\n",
              "      <th>...</th>\n",
              "      <th>BulkFare</th>\n",
              "      <th>MilesFlown</th>\n",
              "      <th>ItinGeoType</th>\n",
              "      <th>SeqNum</th>\n",
              "      <th>Coupons_y</th>\n",
              "      <th>DestCityMarketID</th>\n",
              "      <th>Dest</th>\n",
              "      <th>DestState</th>\n",
              "      <th>CouponGeoType</th>\n",
              "      <th>FareClass</th>\n",
              "    </tr>\n",
              "  </thead>\n",
              "  <tbody>\n",
              "    <tr>\n",
              "      <th>0</th>\n",
              "      <td>2019174441</td>\n",
              "      <td>1</td>\n",
              "      <td>2019</td>\n",
              "      <td>1</td>\n",
              "      <td>MCI</td>\n",
              "      <td>33198</td>\n",
              "      <td>MO</td>\n",
              "      <td>0.0</td>\n",
              "      <td>1.0</td>\n",
              "      <td>1</td>\n",
              "      <td>...</td>\n",
              "      <td>0.0</td>\n",
              "      <td>1107.0</td>\n",
              "      <td>2</td>\n",
              "      <td>1</td>\n",
              "      <td>1</td>\n",
              "      <td>31703</td>\n",
              "      <td>LGA</td>\n",
              "      <td>NY</td>\n",
              "      <td>2</td>\n",
              "      <td>X</td>\n",
              "    </tr>\n",
              "    <tr>\n",
              "      <th>1</th>\n",
              "      <td>2019179426</td>\n",
              "      <td>1</td>\n",
              "      <td>2019</td>\n",
              "      <td>1</td>\n",
              "      <td>MSP</td>\n",
              "      <td>31650</td>\n",
              "      <td>MN</td>\n",
              "      <td>0.0</td>\n",
              "      <td>1.0</td>\n",
              "      <td>1</td>\n",
              "      <td>...</td>\n",
              "      <td>0.0</td>\n",
              "      <td>1008.0</td>\n",
              "      <td>2</td>\n",
              "      <td>1</td>\n",
              "      <td>1</td>\n",
              "      <td>31703</td>\n",
              "      <td>EWR</td>\n",
              "      <td>NJ</td>\n",
              "      <td>2</td>\n",
              "      <td>X</td>\n",
              "    </tr>\n",
              "    <tr>\n",
              "      <th>2</th>\n",
              "      <td>2019181148</td>\n",
              "      <td>1</td>\n",
              "      <td>2019</td>\n",
              "      <td>1</td>\n",
              "      <td>MSP</td>\n",
              "      <td>31650</td>\n",
              "      <td>MN</td>\n",
              "      <td>0.0</td>\n",
              "      <td>1.0</td>\n",
              "      <td>1</td>\n",
              "      <td>...</td>\n",
              "      <td>0.0</td>\n",
              "      <td>448.0</td>\n",
              "      <td>2</td>\n",
              "      <td>1</td>\n",
              "      <td>1</td>\n",
              "      <td>31123</td>\n",
              "      <td>STL</td>\n",
              "      <td>MO</td>\n",
              "      <td>2</td>\n",
              "      <td>X</td>\n",
              "    </tr>\n",
              "    <tr>\n",
              "      <th>3</th>\n",
              "      <td>20191106757</td>\n",
              "      <td>1</td>\n",
              "      <td>2019</td>\n",
              "      <td>1</td>\n",
              "      <td>TYS</td>\n",
              "      <td>35412</td>\n",
              "      <td>TN</td>\n",
              "      <td>0.0</td>\n",
              "      <td>1.0</td>\n",
              "      <td>1</td>\n",
              "      <td>...</td>\n",
              "      <td>0.0</td>\n",
              "      <td>648.0</td>\n",
              "      <td>2</td>\n",
              "      <td>1</td>\n",
              "      <td>1</td>\n",
              "      <td>31703</td>\n",
              "      <td>LGA</td>\n",
              "      <td>NY</td>\n",
              "      <td>2</td>\n",
              "      <td>X</td>\n",
              "    </tr>\n",
              "    <tr>\n",
              "      <th>4</th>\n",
              "      <td>20191126267</td>\n",
              "      <td>1</td>\n",
              "      <td>2019</td>\n",
              "      <td>1</td>\n",
              "      <td>ATL</td>\n",
              "      <td>30397</td>\n",
              "      <td>GA</td>\n",
              "      <td>0.0</td>\n",
              "      <td>1.0</td>\n",
              "      <td>1</td>\n",
              "      <td>...</td>\n",
              "      <td>0.0</td>\n",
              "      <td>731.0</td>\n",
              "      <td>2</td>\n",
              "      <td>1</td>\n",
              "      <td>1</td>\n",
              "      <td>30194</td>\n",
              "      <td>DFW</td>\n",
              "      <td>TX</td>\n",
              "      <td>2</td>\n",
              "      <td>X</td>\n",
              "    </tr>\n",
              "  </tbody>\n",
              "</table>\n",
              "<p>5 rows × 24 columns</p>\n",
              "</div>\n",
              "      <button class=\"colab-df-convert\" onclick=\"convertToInteractive('df-7e4df48d-f497-4ed2-a0e2-2b7a6b9b731e')\"\n",
              "              title=\"Convert this dataframe to an interactive table.\"\n",
              "              style=\"display:none;\">\n",
              "        \n",
              "  <svg xmlns=\"http://www.w3.org/2000/svg\" height=\"24px\"viewBox=\"0 0 24 24\"\n",
              "       width=\"24px\">\n",
              "    <path d=\"M0 0h24v24H0V0z\" fill=\"none\"/>\n",
              "    <path d=\"M18.56 5.44l.94 2.06.94-2.06 2.06-.94-2.06-.94-.94-2.06-.94 2.06-2.06.94zm-11 1L8.5 8.5l.94-2.06 2.06-.94-2.06-.94L8.5 2.5l-.94 2.06-2.06.94zm10 10l.94 2.06.94-2.06 2.06-.94-2.06-.94-.94-2.06-.94 2.06-2.06.94z\"/><path d=\"M17.41 7.96l-1.37-1.37c-.4-.4-.92-.59-1.43-.59-.52 0-1.04.2-1.43.59L10.3 9.45l-7.72 7.72c-.78.78-.78 2.05 0 2.83L4 21.41c.39.39.9.59 1.41.59.51 0 1.02-.2 1.41-.59l7.78-7.78 2.81-2.81c.8-.78.8-2.07 0-2.86zM5.41 20L4 18.59l7.72-7.72 1.47 1.35L5.41 20z\"/>\n",
              "  </svg>\n",
              "      </button>\n",
              "      \n",
              "  <style>\n",
              "    .colab-df-container {\n",
              "      display:flex;\n",
              "      flex-wrap:wrap;\n",
              "      gap: 12px;\n",
              "    }\n",
              "\n",
              "    .colab-df-convert {\n",
              "      background-color: #E8F0FE;\n",
              "      border: none;\n",
              "      border-radius: 50%;\n",
              "      cursor: pointer;\n",
              "      display: none;\n",
              "      fill: #1967D2;\n",
              "      height: 32px;\n",
              "      padding: 0 0 0 0;\n",
              "      width: 32px;\n",
              "    }\n",
              "\n",
              "    .colab-df-convert:hover {\n",
              "      background-color: #E2EBFA;\n",
              "      box-shadow: 0px 1px 2px rgba(60, 64, 67, 0.3), 0px 1px 3px 1px rgba(60, 64, 67, 0.15);\n",
              "      fill: #174EA6;\n",
              "    }\n",
              "\n",
              "    [theme=dark] .colab-df-convert {\n",
              "      background-color: #3B4455;\n",
              "      fill: #D2E3FC;\n",
              "    }\n",
              "\n",
              "    [theme=dark] .colab-df-convert:hover {\n",
              "      background-color: #434B5C;\n",
              "      box-shadow: 0px 1px 3px 1px rgba(0, 0, 0, 0.15);\n",
              "      filter: drop-shadow(0px 1px 2px rgba(0, 0, 0, 0.3));\n",
              "      fill: #FFFFFF;\n",
              "    }\n",
              "  </style>\n",
              "\n",
              "      <script>\n",
              "        const buttonEl =\n",
              "          document.querySelector('#df-7e4df48d-f497-4ed2-a0e2-2b7a6b9b731e button.colab-df-convert');\n",
              "        buttonEl.style.display =\n",
              "          google.colab.kernel.accessAllowed ? 'block' : 'none';\n",
              "\n",
              "        async function convertToInteractive(key) {\n",
              "          const element = document.querySelector('#df-7e4df48d-f497-4ed2-a0e2-2b7a6b9b731e');\n",
              "          const dataTable =\n",
              "            await google.colab.kernel.invokeFunction('convertToInteractive',\n",
              "                                                     [key], {});\n",
              "          if (!dataTable) return;\n",
              "\n",
              "          const docLinkHtml = 'Like what you see? Visit the ' +\n",
              "            '<a target=\"_blank\" href=https://colab.research.google.com/notebooks/data_table.ipynb>data table notebook</a>'\n",
              "            + ' to learn more about interactive tables.';\n",
              "          element.innerHTML = '';\n",
              "          dataTable['output_type'] = 'display_data';\n",
              "          await google.colab.output.renderOutput(dataTable, element);\n",
              "          const docLink = document.createElement('div');\n",
              "          docLink.innerHTML = docLinkHtml;\n",
              "          element.appendChild(docLink);\n",
              "        }\n",
              "      </script>\n",
              "    </div>\n",
              "  </div>\n",
              "  "
            ]
          },
          "metadata": {},
          "execution_count": 5
        }
      ]
    },
    {
      "cell_type": "markdown",
      "source": [
        "The resulting dataset should have 24 columns"
      ],
      "metadata": {
        "id": "rSaF24IPQJDn"
      }
    },
    {
      "cell_type": "markdown",
      "source": [
        "## Analyzing `ItinFare` and `FarePerMile` with Coupon variables\n",
        "\n",
        "As title"
      ],
      "metadata": {
        "id": "6kRI-Z8DQT7C"
      }
    },
    {
      "cell_type": "code",
      "source": [
        "combined.corr()[\"ItinFare\"].sort_values()"
      ],
      "metadata": {
        "colab": {
          "base_uri": "https://localhost:8080/"
        },
        "id": "Hh2Io_Jq4mvM",
        "outputId": "7c286b7d-d161-4f52-83a4-868becaa0a04"
      },
      "execution_count": 6,
      "outputs": [
        {
          "output_type": "execute_result",
          "data": {
            "text/plain": [
              "DollarCred           -0.166745\n",
              "ItinGeoType          -0.085415\n",
              "OnLine               -0.067707\n",
              "Passengers           -0.065896\n",
              "CouponGeoType        -0.046258\n",
              "ItinID               -0.031006\n",
              "BulkFare             -0.012106\n",
              "DestCityMarketID     -0.010215\n",
              "OriginCityMarketID   -0.008853\n",
              "Coupons_x             0.167334\n",
              "SeqNum                0.167334\n",
              "Coupons_y             0.167334\n",
              "RoundTrip             0.169407\n",
              "MilesFlown            0.225840\n",
              "FarePerMile           0.682151\n",
              "ItinFare              1.000000\n",
              "Year                       NaN\n",
              "Quarter                    NaN\n",
              "Name: ItinFare, dtype: float64"
            ]
          },
          "metadata": {},
          "execution_count": 6
        }
      ]
    },
    {
      "cell_type": "code",
      "source": [
        "combined.corr()[\"FarePerMile\"].sort_values()"
      ],
      "metadata": {
        "colab": {
          "base_uri": "https://localhost:8080/"
        },
        "id": "S0kYsHOC5RDC",
        "outputId": "8c961ba9-d9f9-4d17-cbdf-70eeea938feb"
      },
      "execution_count": 7,
      "outputs": [
        {
          "output_type": "execute_result",
          "data": {
            "text/plain": [
              "DollarCred           -0.251185\n",
              "MilesFlown           -0.182060\n",
              "Coupons_x            -0.090183\n",
              "SeqNum               -0.090183\n",
              "Coupons_y            -0.090183\n",
              "RoundTrip            -0.032344\n",
              "Passengers           -0.018761\n",
              "OriginCityMarketID   -0.018045\n",
              "ItinID               -0.015997\n",
              "DestCityMarketID     -0.012876\n",
              "BulkFare             -0.006634\n",
              "OnLine                0.003691\n",
              "CouponGeoType         0.026252\n",
              "ItinGeoType           0.045943\n",
              "ItinFare              0.682151\n",
              "FarePerMile           1.000000\n",
              "Year                       NaN\n",
              "Quarter                    NaN\n",
              "Name: FarePerMile, dtype: float64"
            ]
          },
          "metadata": {},
          "execution_count": 7
        }
      ]
    },
    {
      "cell_type": "markdown",
      "source": [
        "There is no suprise about the `ItinFare` has a such a high correlation with distance. However, it is also surprising to see the huge correlation with distance to `FarePerMile`\n",
        "\n",
        "This showcase the common sense that fligts with longer distance in general is a better bang for your buck"
      ],
      "metadata": {
        "id": "RFJFNHeNQwBS"
      }
    },
    {
      "cell_type": "markdown",
      "source": [
        "## Better dependent variable?\n",
        "\n",
        "So, let's see which variable is better to be a dependent variable for our modeling a bit later"
      ],
      "metadata": {
        "id": "PH4A9RDiSDVi"
      }
    },
    {
      "cell_type": "code",
      "source": [
        "combined[\"FarePerMile\"].plot(kind=\"hist\", title=\"FarePerMile distribution\")"
      ],
      "metadata": {
        "colab": {
          "base_uri": "https://localhost:8080/",
          "height": 299
        },
        "id": "1uhDFnZn6UYs",
        "outputId": "dcd8b98b-be91-41f0-c6f4-31ab04e0ec22"
      },
      "execution_count": 8,
      "outputs": [
        {
          "output_type": "execute_result",
          "data": {
            "text/plain": [
              "<matplotlib.axes._subplots.AxesSubplot at 0x7f5cefec4be0>"
            ]
          },
          "metadata": {},
          "execution_count": 8
        },
        {
          "output_type": "display_data",
          "data": {
            "text/plain": [
              "<Figure size 432x288 with 1 Axes>"
            ],
            "image/png": "[encoded data removed]"
          },
          "metadata": {
            "needs_background": "light"
          }
        }
      ]
    },
    {
      "cell_type": "code",
      "source": [
        "combined[\"ItinFare\"].plot(kind=\"hist\", title=\"ItinFare distribution\")"
      ],
      "metadata": {
        "colab": {
          "base_uri": "https://localhost:8080/",
          "height": 299
        },
        "id": "eCZKHqyr6fAZ",
        "outputId": "7ca58d16-c0f4-42f4-f6e9-baeb969498df"
      },
      "execution_count": 9,
      "outputs": [
        {
          "output_type": "execute_result",
          "data": {
            "text/plain": [
              "<matplotlib.axes._subplots.AxesSubplot at 0x7f5cefedef70>"
            ]
          },
          "metadata": {},
          "execution_count": 9
        },
        {
          "output_type": "display_data",
          "data": {
            "text/plain": [
              "<Figure size 432x288 with 1 Axes>"
            ],
            "image/png": "[encoded data removed]"
          },
          "metadata": {
            "needs_background": "light"
          }
        }
      ]
    },
    {
      "cell_type": "markdown",
      "source": [
        "We could see there is a huge spread of both variables due to a small amount of outliers"
      ],
      "metadata": {
        "id": "xXEJ9lOhSkjK"
      }
    },
    {
      "cell_type": "code",
      "source": [
        "print(\"FPM max value: \", combined[\"FarePerMile\"].max(), \"FPM 99th-quatile: \", combined[\"FarePerMile\"].quantile(.99))"
      ],
      "metadata": {
        "colab": {
          "base_uri": "https://localhost:8080/"
        },
        "id": "zKc-a24YSU6w",
        "outputId": "a6369d64-4aab-484f-ef9a-729aa153e21e"
      },
      "execution_count": 10,
      "outputs": [
        {
          "output_type": "stream",
          "name": "stdout",
          "text": [
            "FPM max value:  569.2157 FPM 99th-quatile:  1.3363\n"
          ]
        }
      ]
    },
    {
      "cell_type": "code",
      "source": [
        "print(\"ItinF max value: \", combined[\"ItinFare\"].max(), \"ItinF 99th-quatile: \", combined[\"ItinFare\"].quantile(.99))"
      ],
      "metadata": {
        "colab": {
          "base_uri": "https://localhost:8080/"
        },
        "id": "1ryjTi3QSuF5",
        "outputId": "877a0f5b-69a9-472b-900a-6ee0ed2974cf"
      },
      "execution_count": 11,
      "outputs": [
        {
          "output_type": "stream",
          "name": "stdout",
          "text": [
            "ItinF max value:  407200.0 ItinF 99th-quatile:  1535.0\n"
          ]
        }
      ]
    },
    {
      "cell_type": "markdown",
      "source": [
        "The numbers confirmed the plots itself, let's see how we should filter the combined dataset\n",
        "\n",
        "Let's start with filtering out the upper 1% quantile of `ItinFare` (ItinF)  "
      ],
      "metadata": {
        "id": "LCi8zLcZTG8q"
      }
    },
    {
      "cell_type": "code",
      "source": [
        "combined[\"ItinFare\"][combined[\"ItinFare\"] < combined[\"ItinFare\"].quantile(.99)].plot(kind=\"hist\", title=\"ItinFare when ItinFare filter top 1%\")\n",
        "plt.show()\n",
        "combined[\"FarePerMile\"][combined[\"ItinFare\"] < combined[\"ItinFare\"].quantile(.99)].plot(kind=\"hist\", title=\"FarePerMile when ItinFare filter top 1%\")\n",
        "plt.show()"
      ],
      "metadata": {
        "colab": {
          "base_uri": "https://localhost:8080/",
          "height": 545
        },
        "id": "G43WHvbS5Hen",
        "outputId": "73adae9c-578f-4686-e5cf-f7186c54006a"
      },
      "execution_count": 12,
      "outputs": [
        {
          "output_type": "display_data",
          "data": {
            "text/plain": [
              "<Figure size 432x288 with 1 Axes>"
            ],
            "image/png": "[encoded data removed]"
          },
          "metadata": {
            "needs_background": "light"
          }
        },
        {
          "output_type": "display_data",
          "data": {
            "text/plain": [
              "<Figure size 432x288 with 1 Axes>"
            ],
            "image/png": "[encoded data removed]"
          },
          "metadata": {
            "needs_background": "light"
          }
        }
      ]
    },
    {
      "cell_type": "markdown",
      "source": [
        "We could see `ItinFare` is showing a standard unimodal distribution. However, we could also see the FPM is still having strong outliers.\n",
        "\n",
        "Let's see would it be better to filter using `FarePerMiles` instead"
      ],
      "metadata": {
        "id": "OxldqojaT-kY"
      }
    },
    {
      "cell_type": "code",
      "source": [
        "combined[\"ItinFare\"][combined[\"FarePerMile\"] < combined[\"FarePerMile\"].quantile(.99)].plot(kind=\"hist\", title=\"ItinFare when FarePerMile filter top 1%\")\n",
        "plt.show()\n",
        "combined[\"FarePerMile\"][combined[\"FarePerMile\"] < combined[\"FarePerMile\"].quantile(.99)].plot(kind=\"hist\", title=\"FarePerMile when FarePerMile filter top 1%\")\n",
        "plt.show()"
      ],
      "metadata": {
        "colab": {
          "base_uri": "https://localhost:8080/",
          "height": 545
        },
        "id": "Q3OfVe7MT-No",
        "outputId": "9e0c61bd-6ad6-42e5-956e-c2e1ea1e6fcd"
      },
      "execution_count": 13,
      "outputs": [
        {
          "output_type": "display_data",
          "data": {
            "text/plain": [
              "<Figure size 432x288 with 1 Axes>"
            ],
            "image/png": "[encoded data removed]"
          },
          "metadata": {
            "needs_background": "light"
          }
        },
        {
          "output_type": "display_data",
          "data": {
            "text/plain": [
              "<Figure size 432x288 with 1 Axes>"
            ],
            "image/png": "[encoded data removed]"
          },
          "metadata": {
            "needs_background": "light"
          }
        }
      ]
    },
    {
      "cell_type": "markdown",
      "source": [
        "It's defintely showing some improvement. However, would it be better when both variables filter using that range?"
      ],
      "metadata": {
        "id": "7lz8_Fx0VAn2"
      }
    },
    {
      "cell_type": "code",
      "source": [
        "combined[\"ItinFare\"][\n",
        "    (combined[\"FarePerMile\"] < combined[\"FarePerMile\"].quantile(.99)) &\n",
        "    (combined[\"ItinFare\"] < combined[\"ItinFare\"].quantile(.99))].plot(\n",
        "        kind=\"hist\", title=\"ItinFare when revenue-related variables filter top 1%\")\n",
        "plt.show()\n",
        "combined[\"FarePerMile\"][\n",
        "    (combined[\"FarePerMile\"] < combined[\"FarePerMile\"].quantile(.99)) &\n",
        "    (combined[\"ItinFare\"] < combined[\"ItinFare\"].quantile(.99))].plot(\n",
        "        kind=\"hist\", title=\"FarePerMile when revenue-related variables filter top 1%\")\n",
        "plt.show()"
      ],
      "metadata": {
        "colab": {
          "base_uri": "https://localhost:8080/",
          "height": 545
        },
        "id": "RkxTR5OUVHJY",
        "outputId": "90e8ee9b-8182-43d2-9779-8fe57cec7c0d"
      },
      "execution_count": 14,
      "outputs": [
        {
          "output_type": "display_data",
          "data": {
            "text/plain": [
              "<Figure size 432x288 with 1 Axes>"
            ],
            "image/png": "[encoded data removed]"
          },
          "metadata": {
            "needs_background": "light"
          }
        },
        {
          "output_type": "display_data",
          "data": {
            "text/plain": [
              "<Figure size 432x288 with 1 Axes>"
            ],
            "image/png": "[encoded data removed]"
          },
          "metadata": {
            "needs_background": "light"
          }
        }
      ]
    },
    {
      "cell_type": "markdown",
      "source": [
        "This confirmed it. Let's use the function to filter the variables."
      ],
      "metadata": {
        "id": "TAfR9xWbVZC3"
      }
    },
    {
      "cell_type": "code",
      "source": [
        "combined_filtered_FPM = ticket.filter_ticket_df_outliers_FPM(combined)\n",
        "filter_combined = ticket.filter_ticket_df_outliers_Itin(combined_filtered_FPM)"
      ],
      "metadata": {
        "id": "jJLl-6PIVXDM"
      },
      "execution_count": 15,
      "outputs": []
    },
    {
      "cell_type": "markdown",
      "source": [
        "Though we could see above that both variable could be reliable dependent varibles, due to the fact that `FarePerMile` are easier to be compared than `ItinFare` which would be affected by more variables that we may not have the ability to access, we would be focus our effort below on `FarePerMile`."
      ],
      "metadata": {
        "id": "OlEbllC6XiUm"
      }
    },
    {
      "cell_type": "markdown",
      "source": [
        "## Census Income Data\n",
        "\n",
        "By importing the census income data, we are able to grab more insight in regards to price discrimination towards protected groups. (i.e.: low income areas)\n",
        "\n",
        "More specifically, our analysis uses the median household income in each metropolitan area defined by US Census bureau to find whether there is price discrimination towards low income areas. "
      ],
      "metadata": {
        "id": "Ct6f7gGKYKWD"
      }
    },
    {
      "cell_type": "code",
      "source": [
        "#@title Grabbing census data from path\n",
        "\n",
        "# The below function should be given the census data from our source, the data has \n",
        "# the code (city_market_code) that was needed to match on the census\n",
        "census_city_code = other.read_cen_data(\".../census_city_code.csv\")"
      ],
      "metadata": {
        "id": "mMpYUwMCWCr-"
      },
      "execution_count": 16,
      "outputs": []
    },
    {
      "cell_type": "markdown",
      "source": [
        "If the files is successfully loaded, below code should show a histogram"
      ],
      "metadata": {
        "id": "0TvVDed4ZGmN"
      }
    },
    {
      "cell_type": "code",
      "source": [
        "other.us_city_median_income_plot(census_city_code)"
      ],
      "metadata": {
        "colab": {
          "base_uri": "https://localhost:8080/",
          "height": 265
        },
        "id": "nWbGwYBbZA4E",
        "outputId": "5c2990e5-4d7f-4dfb-a1cd-bad33a6c2f4f"
      },
      "execution_count": 17,
      "outputs": [
        {
          "output_type": "display_data",
          "data": {
            "text/plain": [
              "<Figure size 432x288 with 1 Axes>"
            ],
            "image/png": "[encoded data removed]"
          },
          "metadata": {
            "needs_background": "light"
          }
        }
      ]
    },
    {
      "cell_type": "markdown",
      "source": [
        "We could see in general, the US household median income has a normal distribution"
      ],
      "metadata": {
        "id": "TEUlIZI6ZQda"
      }
    },
    {
      "cell_type": "markdown",
      "source": [
        "## Insight from income-separted market areas dataset"
      ],
      "metadata": {
        "id": "q2Z6s8zlZrJs"
      }
    },
    {
      "cell_type": "code",
      "source": [
        "other.bottom_25_data(filter_combined, census_city_code)"
      ],
      "metadata": {
        "colab": {
          "base_uri": "https://localhost:8080/",
          "height": 1000
        },
        "id": "YFT6gDDkZDtw",
        "outputId": "11852154-d4b2-4916-f8e2-0aecad931e4e"
      },
      "execution_count": 18,
      "outputs": [
        {
          "output_type": "stream",
          "name": "stdout",
          "text": [
            "Flights originate city areas that has median income in the bottom 25 percentile\n",
            "Mean of FarePerMile :  0.23936070987060795\n",
            "Mean of MilesFlown :  2116.0531853520506\n",
            "Mean of Average Segments: 2.813219417048982\n",
            "FarePerMile by carrier:\n"
          ]
        },
        {
          "output_type": "display_data",
          "data": {
            "text/plain": [
              "<Figure size 432x288 with 1 Axes>"
            ],
            "image/png": "[encoded data removed]"
          },
          "metadata": {
            "needs_background": "light"
          }
        },
        {
          "output_type": "stream",
          "name": "stdout",
          "text": [
            "FarePerMile Distribution:\n"
          ]
        },
        {
          "output_type": "display_data",
          "data": {
            "text/plain": [
              "<Figure size 432x288 with 1 Axes>"
            ],
            "image/png": "[encoded data removed]"
          },
          "metadata": {
            "needs_background": "light"
          }
        },
        {
          "output_type": "stream",
          "name": "stdout",
          "text": [
            "Flights destination is city areas that has median income in the bottom 25 percentile\n",
            "Mean of FarePerMile :  0.23919346362525926\n",
            "Mean of MilesFlown :  2114.450870664432\n",
            "Mean of Average Segments: 2.8420163054285146\n",
            "FarePerMile by carrier:\n"
          ]
        },
        {
          "output_type": "display_data",
          "data": {
            "text/plain": [
              "<Figure size 432x288 with 1 Axes>"
            ],
            "image/png": "[encoded data removed]"
          },
          "metadata": {
            "needs_background": "light"
          }
        },
        {
          "output_type": "stream",
          "name": "stdout",
          "text": [
            "FarePerMile Distribution:\n"
          ]
        },
        {
          "output_type": "display_data",
          "data": {
            "text/plain": [
              "<Figure size 432x288 with 1 Axes>"
            ],
            "image/png": "[encoded data removed]"
          },
          "metadata": {
            "needs_background": "light"
          }
        }
      ]
    },
    {
      "cell_type": "code",
      "source": [
        "other.upper_25_data(filter_combined, census_city_code)"
      ],
      "metadata": {
        "colab": {
          "base_uri": "https://localhost:8080/",
          "height": 1000
        },
        "id": "uKWbHHfgZ48F",
        "outputId": "74ea144e-2900-43a9-92d3-c7cea184f08d"
      },
      "execution_count": 19,
      "outputs": [
        {
          "output_type": "stream",
          "name": "stdout",
          "text": [
            "Flights originate city areas that has median income in the upper 25 percentile\n",
            "Mean of FarePerMile :  0.23895542954373056\n",
            "Mean of MilesFlown :  2201.5014665655144\n",
            "Mean of Average Segments: 2.4042288934648313\n",
            "FarePerMile by carrier:\n"
          ]
        },
        {
          "output_type": "display_data",
          "data": {
            "text/plain": [
              "<Figure size 432x288 with 1 Axes>"
            ],
            "image/png": "[encoded data removed]"
          },
          "metadata": {
            "needs_background": "light"
          }
        },
        {
          "output_type": "stream",
          "name": "stdout",
          "text": [
            "FarePerMile Distribution:\n"
          ]
        },
        {
          "output_type": "display_data",
          "data": {
            "text/plain": [
              "<Figure size 432x288 with 1 Axes>"
            ],
            "image/png": "[encoded data removed]"
          },
          "metadata": {
            "needs_background": "light"
          }
        },
        {
          "output_type": "stream",
          "name": "stdout",
          "text": [
            "Flights destination is city areas that has median income in the upper 25 percentile\n",
            "Mean of FarePerMile :  0.2388998360284507\n",
            "Mean of MilesFlown :  2203.3459881959534\n",
            "Mean of Average Segments: 2.4040134277414573\n",
            "FarePerMile by carrier:\n"
          ]
        },
        {
          "output_type": "display_data",
          "data": {
            "text/plain": [
              "<Figure size 432x288 with 1 Axes>"
            ],
            "image/png": "[encoded data removed]"
          },
          "metadata": {
            "needs_background": "light"
          }
        },
        {
          "output_type": "stream",
          "name": "stdout",
          "text": [
            "FarePerMile Distribution:\n"
          ]
        },
        {
          "output_type": "display_data",
          "data": {
            "text/plain": [
              "<Figure size 432x288 with 1 Axes>"
            ],
            "image/png": "[encoded data removed]"
          },
          "metadata": {
            "needs_background": "light"
          }
        }
      ]
    },
    {
      "cell_type": "markdown",
      "source": [
        "The above shows the average FPM for metropolitian area as:\n",
        "\n",
        "\n",
        "*   Bottom 25%-tile as destination\n",
        "*   Bottom 25%-tile as origin\n",
        "*   Upper 25%-tile as destination\n",
        "*   Upper 25%-tile as origin\n",
        "\n",
        "We could see both metrics (as destination/as origin), the upper 25%-tile has a lower FPM despite averaging a shorter flight distance. From our previous analysis, we noticed the short distant flight has usually a higher fare. However, it is not the case here. It is also worth to mention that there is a slighly higher segment count in the bottom-tile.\n",
        "\n",
        "We expect that if we just look at passengers that would only have one-segement on their ticket, we believe that there would be larger discrepency. However, it would be unfair to focus our reasearch on only one segment as most passengers buys a plane ticket mostly based on the origin and destination. Though segment count is a consideration, we believe it would make the most sense if we count as much ticket as possible.\n",
        "\n",
        "It would be interesting to see how the bias would turn out in the model. "
      ],
      "metadata": {
        "id": "BlgAhDVjdKox"
      }
    },
    {
      "cell_type": "code",
      "source": [
        "other.lower_and_upper_data(filter_combined, census_city_code)"
      ],
      "metadata": {
        "colab": {
          "base_uri": "https://localhost:8080/",
          "height": 1000
        },
        "id": "iMvere9FaZNY",
        "outputId": "26010a66-5aeb-4135-d7e7-77d52d9dbd90"
      },
      "execution_count": 20,
      "outputs": [
        {
          "output_type": "stream",
          "name": "stdout",
          "text": [
            "Flights originate bottom 25 to upper 25\n",
            "Mean of FarePerMile :  0.23389065524944155\n",
            "Mean of MilesFlown :  1783.074034677162\n",
            "Mean of Average Segments: 1.9072439102223169\n",
            "FarePerMile by carrier:\n"
          ]
        },
        {
          "output_type": "display_data",
          "data": {
            "text/plain": [
              "<Figure size 432x288 with 1 Axes>"
            ],
            "image/png": "[encoded data removed]"
          },
          "metadata": {
            "needs_background": "light"
          }
        },
        {
          "output_type": "stream",
          "name": "stdout",
          "text": [
            "FarePerMile Distribution:\n"
          ]
        },
        {
          "output_type": "display_data",
          "data": {
            "text/plain": [
              "<Figure size 432x288 with 1 Axes>"
            ],
            "image/png": "[encoded data removed]"
          },
          "metadata": {
            "needs_background": "light"
          }
        },
        {
          "output_type": "stream",
          "name": "stdout",
          "text": [
            "Flights originate upper 25 to bottom 25\n",
            "Mean of FarePerMile :  0.2364195141377937\n",
            "Mean of MilesFlown :  1722.3718495761507\n",
            "Mean of Average Segments: 1.8839392387779486\n",
            "FarePerMile by carrier:\n"
          ]
        },
        {
          "output_type": "display_data",
          "data": {
            "text/plain": [
              "<Figure size 432x288 with 1 Axes>"
            ],
            "image/png": "[encoded data removed]"
          },
          "metadata": {
            "needs_background": "light"
          }
        },
        {
          "output_type": "stream",
          "name": "stdout",
          "text": [
            "FarePerMile Distribution:\n"
          ]
        },
        {
          "output_type": "display_data",
          "data": {
            "text/plain": [
              "<Figure size 432x288 with 1 Axes>"
            ],
            "image/png": "[encoded data removed]"
          },
          "metadata": {
            "needs_background": "light"
          }
        }
      ]
    },
    {
      "cell_type": "markdown",
      "source": [
        "The above shows flights orgin bottom --> upper and upper-->bottom.\n",
        "\n",
        "From the data above, we did not see a large discrepency.\n",
        "\n",
        "However, it is worthwhile to note that there is a huge decrease on the segment count."
      ],
      "metadata": {
        "id": "Mrm5zEikePS9"
      }
    },
    {
      "cell_type": "code",
      "source": [
        "other.double_low_high(filter_combined, census_city_code)"
      ],
      "metadata": {
        "colab": {
          "base_uri": "https://localhost:8080/",
          "height": 1000
        },
        "id": "e_i6dFY_aaFe",
        "outputId": "f07520f9-d46a-4776-8893-f1c9772d96b4"
      },
      "execution_count": 21,
      "outputs": [
        {
          "output_type": "stream",
          "name": "stdout",
          "text": [
            "Flights originate and destin for bottom 25\n",
            "Mean of FarePerMile :  0.24124264877776083\n",
            "Mean of MilesFlown :  2489.6033440056917\n",
            "Mean of Average Segments: 3.592798698988667\n",
            "FarePerMile by carrier:\n"
          ]
        },
        {
          "output_type": "display_data",
          "data": {
            "text/plain": [
              "<Figure size 432x288 with 1 Axes>"
            ],
            "image/png": "[encoded data removed]"
          },
          "metadata": {
            "needs_background": "light"
          }
        },
        {
          "output_type": "stream",
          "name": "stdout",
          "text": [
            "FarePerMile Distribution:\n"
          ]
        },
        {
          "output_type": "display_data",
          "data": {
            "text/plain": [
              "<Figure size 432x288 with 1 Axes>"
            ],
            "image/png": "[encoded data removed]"
          },
          "metadata": {
            "needs_background": "light"
          }
        },
        {
          "output_type": "stream",
          "name": "stdout",
          "text": [
            "Flights originate and destin for upper 25\n",
            "Mean of FarePerMile :  0.23766125380821113\n",
            "Mean of MilesFlown :  2336.3721933224183\n",
            "Mean of Average Segments: 2.5430540299682907\n",
            "FarePerMile by carrier:\n"
          ]
        },
        {
          "output_type": "display_data",
          "data": {
            "text/plain": [
              "<Figure size 432x288 with 1 Axes>"
            ],
            "image/png": "[encoded data removed]"
          },
          "metadata": {
            "needs_background": "light"
          }
        },
        {
          "output_type": "stream",
          "name": "stdout",
          "text": [
            "FarePerMile Distribution:\n"
          ]
        },
        {
          "output_type": "display_data",
          "data": {
            "text/plain": [
              "<Figure size 432x288 with 1 Axes>"
            ],
            "image/png": "[encoded data removed]"
          },
          "metadata": {
            "needs_background": "light"
          }
        }
      ]
    },
    {
      "cell_type": "markdown",
      "source": [
        "The above shows flights from originate and destinate on the areas with the same income band.\n",
        "\n",
        "There is a strong indication that flight originate on the lower median group has a much higher fare."
      ],
      "metadata": {
        "id": "4W-tQz3Af0kr"
      }
    },
    {
      "cell_type": "code",
      "source": [],
      "metadata": {
        "id": "uLdlfdpTghsk"
      },
      "execution_count": null,
      "outputs": []
    }
  ]
}