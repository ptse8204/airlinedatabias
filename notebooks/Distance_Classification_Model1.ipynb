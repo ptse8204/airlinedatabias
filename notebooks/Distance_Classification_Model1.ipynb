{
 "cells": [
  {
   "cell_type": "markdown",
   "id": "0fc87492",
   "metadata": {},
   "source": [
    "## Classification for 2018 Dataset\n",
    "\n",
    "while we are doing EDA on only 1 dataset, codes in this file should be applied other three as they all share the same feature"
   ]
  },
  {
   "cell_type": "code",
   "execution_count": 1,
   "id": "6492ce8f",
   "metadata": {},
   "outputs": [],
   "source": [
    "# pip install xgboost"
   ]
  },
  {
   "cell_type": "code",
   "execution_count": 2,
   "id": "cb5391b6",
   "metadata": {
    "scrolled": true
   },
   "outputs": [],
   "source": [
    "# pip install lightgbm"
   ]
  },
  {
   "cell_type": "code",
   "execution_count": 3,
   "id": "847e3e6f",
   "metadata": {},
   "outputs": [],
   "source": [
    "import numpy as np\n",
    "import pandas as pd"
   ]
  },
  {
   "cell_type": "code",
   "execution_count": 4,
   "id": "85d1edc6",
   "metadata": {},
   "outputs": [],
   "source": [
    "### dataset for the first quarter"
   ]
  },
  {
   "cell_type": "code",
   "execution_count": 5,
   "id": "c83a9c3f",
   "metadata": {},
   "outputs": [],
   "source": [
    "coupon_df = pd.read_csv(\"Origin_and_Destination_Survey_DB1BCoupon_2018_1.csv\")\n",
    "ticket_df = pd.read_csv(\"Origin_and_Destination_Survey_DB1BTicket_2018_1.csv\")"
   ]
  },
  {
   "cell_type": "code",
   "execution_count": 6,
   "id": "f6c53995",
   "metadata": {},
   "outputs": [],
   "source": [
    "def gen_ticket_coupon(ticket_df, coupon_df):\n",
    "    ticket_df_reduced = ticket_df[[\"ItinID\", \"Coupons\", 'Year', 'Quarter', \n",
    "                                     'Origin', 'OriginCityMarketID', 'OriginState',\n",
    "                                     'RoundTrip', 'OnLine', 'DollarCred', 'FarePerMile',\n",
    "                                      'RPCarrier', 'Passengers', 'ItinFare', 'BulkFare'\n",
    "                                      , 'MilesFlown', 'ItinGeoType']]\n",
    "    del ticket_df\n",
    "    coupon_df_reduced = coupon_df[['ItinID','SeqNum', 'Coupons', 'Year', \n",
    "                                     'Quarter', 'DestCityMarketID', 'Dest', \n",
    "                                     'DestState', 'CouponGeoType', 'FareClass']]\n",
    "    del coupon_df\n",
    "    max_gp = coupon_df_reduced[[\"SeqNum\", \"ItinID\"]].groupby(\"ItinID\").max().reset_index()\n",
    "    coupon_df_filter = coupon_df_reduced.merge(max_gp, on=[\"ItinID\",\t\"SeqNum\"])\n",
    "    return ticket_df_reduced.merge(coupon_df_filter, on=['ItinID', 'Year', 'Quarter'])"
   ]
  },
  {
   "cell_type": "code",
   "execution_count": 7,
   "id": "bee7f8ad",
   "metadata": {},
   "outputs": [],
   "source": [
    "combined = gen_ticket_coupon(ticket_df, coupon_df)"
   ]
  },
  {
   "cell_type": "markdown",
   "id": "4b8334b8",
   "metadata": {},
   "source": [
    "### Adjust prices according to inflation by year to 2022 values, meaning all dollars"
   ]
  },
  {
   "cell_type": "code",
   "execution_count": 8,
   "id": "14df6090",
   "metadata": {
    "scrolled": true
   },
   "outputs": [],
   "source": [
    "### $1 in 2018 is worth $1.16 in 2022\n",
    "def adjust_inflation(dataset):\n",
    "    dataset['ItinFare'] = dataset['ItinFare'].apply(lambda x: x * 1.16)\n",
    "    dataset['FarePerMile'] = dataset['FarePerMile'].apply(lambda x: x * 1.16)"
   ]
  },
  {
   "cell_type": "code",
   "execution_count": 9,
   "id": "493385b6",
   "metadata": {
    "scrolled": true
   },
   "outputs": [],
   "source": [
    "adjust_inflation(combined)"
   ]
  },
  {
   "cell_type": "code",
   "execution_count": 10,
   "id": "04e2c56b",
   "metadata": {},
   "outputs": [],
   "source": [
    "aj_df = combined"
   ]
  },
  {
   "cell_type": "markdown",
   "id": "bb84c047",
   "metadata": {},
   "source": [
    "### Check revenue per miles on each airlines"
   ]
  },
  {
   "cell_type": "code",
   "execution_count": 11,
   "id": "64041544",
   "metadata": {},
   "outputs": [],
   "source": [
    "def flight_length(x):\n",
    "        if x <= 1725: #miles\n",
    "            return \"short-haul\"\n",
    "        elif x>1725 and x<=3450:\n",
    "            return \"medium-haul\"\n",
    "        else:\n",
    "            return \"long-haul\""
   ]
  },
  {
   "cell_type": "code",
   "execution_count": 12,
   "id": "79f44c56",
   "metadata": {},
   "outputs": [],
   "source": [
    "aj_df['Flight_length'] = aj_df.MilesFlown.apply(lambda x: flight_length(x))"
   ]
  },
  {
   "cell_type": "markdown",
   "id": "2a7ae062",
   "metadata": {},
   "source": [
    "## Relationship between distance and other variable"
   ]
  },
  {
   "cell_type": "code",
   "execution_count": 13,
   "id": "eb2a4b93",
   "metadata": {
    "scrolled": false
   },
   "outputs": [
    {
     "data": {
      "text/plain": [
       "ItinGeoType          -0.430109\n",
       "CouponGeoType        -0.229047\n",
       "FarePerMile          -0.219075\n",
       "OnLine               -0.081244\n",
       "Passengers           -0.070452\n",
       "ItinID               -0.037994\n",
       "BulkFare             -0.003623\n",
       "DestCityMarketID      0.028575\n",
       "OriginCityMarketID    0.032927\n",
       "DollarCred            0.050918\n",
       "ItinFare              0.238814\n",
       "RoundTrip             0.365600\n",
       "SeqNum                0.515176\n",
       "Coupons_y             0.515176\n",
       "Coupons_x             0.515176\n",
       "MilesFlown            1.000000\n",
       "Year                       NaN\n",
       "Quarter                    NaN\n",
       "Name: MilesFlown, dtype: float64"
      ]
     },
     "execution_count": 13,
     "metadata": {},
     "output_type": "execute_result"
    }
   ],
   "source": [
    "dis_correlation = aj_df.corr()[\"MilesFlown\"].sort_values()\n",
    "dis_correlation"
   ]
  },
  {
   "cell_type": "code",
   "execution_count": 14,
   "id": "fdc247d2",
   "metadata": {},
   "outputs": [
    {
     "name": "stderr",
     "output_type": "stream",
     "text": [
      "/opt/conda/lib/python3.9/site-packages/dask/dataframe/backends.py:187: FutureWarning: pandas.Int64Index is deprecated and will be removed from pandas in a future version. Use pandas.Index with the appropriate dtype instead.\n",
      "  _numeric_index_types = (pd.Int64Index, pd.Float64Index, pd.UInt64Index)\n",
      "/opt/conda/lib/python3.9/site-packages/dask/dataframe/backends.py:187: FutureWarning: pandas.Float64Index is deprecated and will be removed from pandas in a future version. Use pandas.Index with the appropriate dtype instead.\n",
      "  _numeric_index_types = (pd.Int64Index, pd.Float64Index, pd.UInt64Index)\n",
      "/opt/conda/lib/python3.9/site-packages/dask/dataframe/backends.py:187: FutureWarning: pandas.UInt64Index is deprecated and will be removed from pandas in a future version. Use pandas.Index with the appropriate dtype instead.\n",
      "  _numeric_index_types = (pd.Int64Index, pd.Float64Index, pd.UInt64Index)\n"
     ]
    }
   ],
   "source": [
    "### we take off Coupons_y as it is identical to Coupons_x\n",
    "### we take off ItinFare as it will give away the distance when divided by feature Fare/mile\n",
    "\n",
    "target_features = ['ItinGeoType', 'CouponGeoType', 'FarePerMile', 'OnLine', 'Passengers',\n",
    "       'DollarCred', 'RoundTrip', 'SeqNum','Coupons_x']\n",
    "\n",
    "from sklearn.pipeline import Pipeline\n",
    "from sklearn.compose import ColumnTransformer\n",
    "from sklearn.preprocessing import StandardScaler\n",
    "from sklearn.preprocessing import OneHotEncoder\n",
    "from sklearn.svm import SVR\n",
    "from sklearn.metrics import mean_squared_error\n",
    "\n",
    "from sklearn.ensemble import RandomForestClassifier\n",
    "from sklearn.tree import DecisionTreeClassifier\n",
    "from sklearn.linear_model import LogisticRegression\n",
    "\n",
    "from sklearn.metrics import classification_report\n",
    "from sklearn.metrics import confusion_matrix\n",
    "from sklearn.metrics import accuracy_score\n",
    "from sklearn.tree import ExtraTreeClassifier\n",
    "import lightgbm as ltb\n",
    "import xgboost as xgb\n",
    "\n",
    "\n",
    "\n",
    "scaler = StandardScaler()\n",
    "encode = OneHotEncoder(handle_unknown='ignore')"
   ]
  },
  {
   "cell_type": "markdown",
   "id": "0543f532",
   "metadata": {},
   "source": [
    "### Initial Training"
   ]
  },
  {
   "cell_type": "code",
   "execution_count": 15,
   "id": "a056849e",
   "metadata": {},
   "outputs": [],
   "source": [
    "DTC_pipe_fil = Pipeline([(\"preprocess\", ColumnTransformer([\n",
    "    ('categorical_preprocessing', encode, [ \n",
    "                    \"OriginCityMarketID\", 'ItinGeoType', 'CouponGeoType', \n",
    "                            \"RPCarrier\", \"RoundTrip\", \"FareClass\",'OnLine']),\n",
    "    ('numerical_preprocessing', scaler, [\"Passengers\"\n",
    "                            ])\n",
    "])), (\"DTC\", DecisionTreeClassifier())])\n",
    "\n",
    "\n",
    "ETC_pipe_fil = Pipeline([(\"preprocess\", ColumnTransformer([\n",
    "    ('categorical_preprocessing', encode, [ \n",
    "                    \"OriginCityMarketID\", 'ItinGeoType', 'CouponGeoType', \n",
    "                            \"RPCarrier\", \"RoundTrip\", \"FareClass\",'OnLine']),\n",
    "    ('numerical_preprocessing', scaler, [\"Passengers\"\n",
    "                            ])\n",
    "])), (\"ETC\", ExtraTreeClassifier())])\n",
    "\n",
    "\n",
    "RFC_pipe_fil = Pipeline([(\"preprocess\", ColumnTransformer([\n",
    "    ('categorical_preprocessing', encode, [ \n",
    "                    \"OriginCityMarketID\", 'ItinGeoType', 'CouponGeoType', \n",
    "                            \"RPCarrier\", \"RoundTrip\", \"FareClass\",'OnLine']),\n",
    "    ('numerical_preprocessing', scaler, [\"Passengers\"\n",
    "                            ])\n",
    "])), (\"RFC\", RandomForestClassifier())])\n",
    "\n",
    "\n",
    "XGB_pipe_fil = Pipeline([(\"preprocess\", ColumnTransformer([\n",
    "    ('categorical_preprocessing', encode, [ \n",
    "                    \"OriginCityMarketID\", 'ItinGeoType', 'CouponGeoType', \n",
    "                            \"RPCarrier\", \"RoundTrip\", \"FareClass\",'OnLine']),\n",
    "    ('numerical_preprocessing', scaler, [\"Passengers\"\n",
    "                            ])\n",
    "])), (\"XGB\", xgb.XGBClassifier())])\n",
    "\n",
    "\n",
    "\n",
    "LGB_pipe_fil = Pipeline([(\"preprocess\", ColumnTransformer([\n",
    "    ('categorical_preprocessing', encode, [ \n",
    "                    \"OriginCityMarketID\", 'ItinGeoType', 'CouponGeoType', \n",
    "                            \"RPCarrier\", \"RoundTrip\", \"FareClass\",'OnLine']),\n",
    "    ('numerical_preprocessing', scaler, [\"Passengers\"\n",
    "                            ])\n",
    "])), (\"LGB\", ltb.LGBMClassifier())])\n",
    "\n"
   ]
  },
  {
   "cell_type": "code",
   "execution_count": 16,
   "id": "0e18dc11",
   "metadata": {},
   "outputs": [
    {
     "data": {
      "text/plain": [
       "(3710127, 25)"
      ]
     },
     "execution_count": 16,
     "metadata": {},
     "output_type": "execute_result"
    }
   ],
   "source": [
    "aj_df.shape"
   ]
  },
  {
   "cell_type": "code",
   "execution_count": 17,
   "id": "edc60879",
   "metadata": {},
   "outputs": [],
   "source": [
    "sample_df = aj_df.sample(frac=0.01)\n",
    "# Pandas \".iloc\" expects row_indexer, column_indexer  \n",
    "X = sample_df\n",
    "# Now let's tell the dataframe which column we want for the target/labels.  \n",
    "y = sample_df['Flight_length']\n",
    "\n",
    "from sklearn.model_selection import train_test_split\n",
    "X_train, X_test, y_train, y_test = train_test_split(X, y, test_size=0.20, random_state=27)"
   ]
  },
  {
   "cell_type": "code",
   "execution_count": 18,
   "id": "425e5a71",
   "metadata": {},
   "outputs": [],
   "source": [
    "from sklearn.model_selection import train_test_split\n",
    "X_train, X_test, y_train, y_test = train_test_split(X, y, test_size=0.20, random_state=27)"
   ]
  },
  {
   "cell_type": "code",
   "execution_count": 19,
   "id": "93947fb3",
   "metadata": {},
   "outputs": [
    {
     "name": "stdout",
     "output_type": "stream",
     "text": [
      "CPU times: user 1.04 s, sys: 14.5 ms, total: 1.05 s\n",
      "Wall time: 1.05 s\n"
     ]
    },
    {
     "data": {
      "text/html": [
       "<style>#sk-container-id-1 {color: black;background-color: white;}#sk-container-id-1 pre{padding: 0;}#sk-container-id-1 div.sk-toggleable {background-color: white;}#sk-container-id-1 label.sk-toggleable__label {cursor: pointer;display: block;width: 100%;margin-bottom: 0;padding: 0.3em;box-sizing: border-box;text-align: center;}#sk-container-id-1 label.sk-toggleable__label-arrow:before {content: \"▸\";float: left;margin-right: 0.25em;color: #696969;}#sk-container-id-1 label.sk-toggleable__label-arrow:hover:before {color: black;}#sk-container-id-1 div.sk-estimator:hover label.sk-toggleable__label-arrow:before {color: black;}#sk-container-id-1 div.sk-toggleable__content {max-height: 0;max-width: 0;overflow: hidden;text-align: left;background-color: #f0f8ff;}#sk-container-id-1 div.sk-toggleable__content pre {margin: 0.2em;color: black;border-radius: 0.25em;background-color: #f0f8ff;}#sk-container-id-1 input.sk-toggleable__control:checked~div.sk-toggleable__content {max-height: 200px;max-width: 100%;overflow: auto;}#sk-container-id-1 input.sk-toggleable__control:checked~label.sk-toggleable__label-arrow:before {content: \"▾\";}#sk-container-id-1 div.sk-estimator input.sk-toggleable__control:checked~label.sk-toggleable__label {background-color: #d4ebff;}#sk-container-id-1 div.sk-label input.sk-toggleable__control:checked~label.sk-toggleable__label {background-color: #d4ebff;}#sk-container-id-1 input.sk-hidden--visually {border: 0;clip: rect(1px 1px 1px 1px);clip: rect(1px, 1px, 1px, 1px);height: 1px;margin: -1px;overflow: hidden;padding: 0;position: absolute;width: 1px;}#sk-container-id-1 div.sk-estimator {font-family: monospace;background-color: #f0f8ff;border: 1px dotted black;border-radius: 0.25em;box-sizing: border-box;margin-bottom: 0.5em;}#sk-container-id-1 div.sk-estimator:hover {background-color: #d4ebff;}#sk-container-id-1 div.sk-parallel-item::after {content: \"\";width: 100%;border-bottom: 1px solid gray;flex-grow: 1;}#sk-container-id-1 div.sk-label:hover label.sk-toggleable__label {background-color: #d4ebff;}#sk-container-id-1 div.sk-serial::before {content: \"\";position: absolute;border-left: 1px solid gray;box-sizing: border-box;top: 0;bottom: 0;left: 50%;z-index: 0;}#sk-container-id-1 div.sk-serial {display: flex;flex-direction: column;align-items: center;background-color: white;padding-right: 0.2em;padding-left: 0.2em;position: relative;}#sk-container-id-1 div.sk-item {position: relative;z-index: 1;}#sk-container-id-1 div.sk-parallel {display: flex;align-items: stretch;justify-content: center;background-color: white;position: relative;}#sk-container-id-1 div.sk-item::before, #sk-container-id-1 div.sk-parallel-item::before {content: \"\";position: absolute;border-left: 1px solid gray;box-sizing: border-box;top: 0;bottom: 0;left: 50%;z-index: -1;}#sk-container-id-1 div.sk-parallel-item {display: flex;flex-direction: column;z-index: 1;position: relative;background-color: white;}#sk-container-id-1 div.sk-parallel-item:first-child::after {align-self: flex-end;width: 50%;}#sk-container-id-1 div.sk-parallel-item:last-child::after {align-self: flex-start;width: 50%;}#sk-container-id-1 div.sk-parallel-item:only-child::after {width: 0;}#sk-container-id-1 div.sk-dashed-wrapped {border: 1px dashed gray;margin: 0 0.4em 0.5em 0.4em;box-sizing: border-box;padding-bottom: 0.4em;background-color: white;}#sk-container-id-1 div.sk-label label {font-family: monospace;font-weight: bold;display: inline-block;line-height: 1.2em;}#sk-container-id-1 div.sk-label-container {text-align: center;}#sk-container-id-1 div.sk-container {/* jupyter's `normalize.less` sets `[hidden] { display: none; }` but bootstrap.min.css set `[hidden] { display: none !important; }` so we also need the `!important` here to be able to override the default hidden behavior on the sphinx rendered scikit-learn.org. See: https://github.com/scikit-learn/scikit-learn/issues/21755 */display: inline-block !important;position: relative;}#sk-container-id-1 div.sk-text-repr-fallback {display: none;}</style><div id=\"sk-container-id-1\" class=\"sk-top-container\"><div class=\"sk-text-repr-fallback\"><pre>Pipeline(steps=[(&#x27;preprocess&#x27;,\n",
       "                 ColumnTransformer(transformers=[(&#x27;categorical_preprocessing&#x27;,\n",
       "                                                  OneHotEncoder(handle_unknown=&#x27;ignore&#x27;),\n",
       "                                                  [&#x27;OriginCityMarketID&#x27;,\n",
       "                                                   &#x27;ItinGeoType&#x27;,\n",
       "                                                   &#x27;CouponGeoType&#x27;, &#x27;RPCarrier&#x27;,\n",
       "                                                   &#x27;RoundTrip&#x27;, &#x27;FareClass&#x27;,\n",
       "                                                   &#x27;OnLine&#x27;]),\n",
       "                                                 (&#x27;numerical_preprocessing&#x27;,\n",
       "                                                  StandardScaler(),\n",
       "                                                  [&#x27;Passengers&#x27;])])),\n",
       "                (&#x27;ETC&#x27;, ExtraTreeClassifier())])</pre><b>In a Jupyter environment, please rerun this cell to show the HTML representation or trust the notebook. <br />On GitHub, the HTML representation is unable to render, please try loading this page with nbviewer.org.</b></div><div class=\"sk-container\" hidden><div class=\"sk-item sk-dashed-wrapped\"><div class=\"sk-label-container\"><div class=\"sk-label sk-toggleable\"><input class=\"sk-toggleable__control sk-hidden--visually\" id=\"sk-estimator-id-1\" type=\"checkbox\" ><label for=\"sk-estimator-id-1\" class=\"sk-toggleable__label sk-toggleable__label-arrow\">Pipeline</label><div class=\"sk-toggleable__content\"><pre>Pipeline(steps=[(&#x27;preprocess&#x27;,\n",
       "                 ColumnTransformer(transformers=[(&#x27;categorical_preprocessing&#x27;,\n",
       "                                                  OneHotEncoder(handle_unknown=&#x27;ignore&#x27;),\n",
       "                                                  [&#x27;OriginCityMarketID&#x27;,\n",
       "                                                   &#x27;ItinGeoType&#x27;,\n",
       "                                                   &#x27;CouponGeoType&#x27;, &#x27;RPCarrier&#x27;,\n",
       "                                                   &#x27;RoundTrip&#x27;, &#x27;FareClass&#x27;,\n",
       "                                                   &#x27;OnLine&#x27;]),\n",
       "                                                 (&#x27;numerical_preprocessing&#x27;,\n",
       "                                                  StandardScaler(),\n",
       "                                                  [&#x27;Passengers&#x27;])])),\n",
       "                (&#x27;ETC&#x27;, ExtraTreeClassifier())])</pre></div></div></div><div class=\"sk-serial\"><div class=\"sk-item sk-dashed-wrapped\"><div class=\"sk-label-container\"><div class=\"sk-label sk-toggleable\"><input class=\"sk-toggleable__control sk-hidden--visually\" id=\"sk-estimator-id-2\" type=\"checkbox\" ><label for=\"sk-estimator-id-2\" class=\"sk-toggleable__label sk-toggleable__label-arrow\">preprocess: ColumnTransformer</label><div class=\"sk-toggleable__content\"><pre>ColumnTransformer(transformers=[(&#x27;categorical_preprocessing&#x27;,\n",
       "                                 OneHotEncoder(handle_unknown=&#x27;ignore&#x27;),\n",
       "                                 [&#x27;OriginCityMarketID&#x27;, &#x27;ItinGeoType&#x27;,\n",
       "                                  &#x27;CouponGeoType&#x27;, &#x27;RPCarrier&#x27;, &#x27;RoundTrip&#x27;,\n",
       "                                  &#x27;FareClass&#x27;, &#x27;OnLine&#x27;]),\n",
       "                                (&#x27;numerical_preprocessing&#x27;, StandardScaler(),\n",
       "                                 [&#x27;Passengers&#x27;])])</pre></div></div></div><div class=\"sk-parallel\"><div class=\"sk-parallel-item\"><div class=\"sk-item\"><div class=\"sk-label-container\"><div class=\"sk-label sk-toggleable\"><input class=\"sk-toggleable__control sk-hidden--visually\" id=\"sk-estimator-id-3\" type=\"checkbox\" ><label for=\"sk-estimator-id-3\" class=\"sk-toggleable__label sk-toggleable__label-arrow\">categorical_preprocessing</label><div class=\"sk-toggleable__content\"><pre>[&#x27;OriginCityMarketID&#x27;, &#x27;ItinGeoType&#x27;, &#x27;CouponGeoType&#x27;, &#x27;RPCarrier&#x27;, &#x27;RoundTrip&#x27;, &#x27;FareClass&#x27;, &#x27;OnLine&#x27;]</pre></div></div></div><div class=\"sk-serial\"><div class=\"sk-item\"><div class=\"sk-estimator sk-toggleable\"><input class=\"sk-toggleable__control sk-hidden--visually\" id=\"sk-estimator-id-4\" type=\"checkbox\" ><label for=\"sk-estimator-id-4\" class=\"sk-toggleable__label sk-toggleable__label-arrow\">OneHotEncoder</label><div class=\"sk-toggleable__content\"><pre>OneHotEncoder(handle_unknown=&#x27;ignore&#x27;)</pre></div></div></div></div></div></div><div class=\"sk-parallel-item\"><div class=\"sk-item\"><div class=\"sk-label-container\"><div class=\"sk-label sk-toggleable\"><input class=\"sk-toggleable__control sk-hidden--visually\" id=\"sk-estimator-id-5\" type=\"checkbox\" ><label for=\"sk-estimator-id-5\" class=\"sk-toggleable__label sk-toggleable__label-arrow\">numerical_preprocessing</label><div class=\"sk-toggleable__content\"><pre>[&#x27;Passengers&#x27;]</pre></div></div></div><div class=\"sk-serial\"><div class=\"sk-item\"><div class=\"sk-estimator sk-toggleable\"><input class=\"sk-toggleable__control sk-hidden--visually\" id=\"sk-estimator-id-6\" type=\"checkbox\" ><label for=\"sk-estimator-id-6\" class=\"sk-toggleable__label sk-toggleable__label-arrow\">StandardScaler</label><div class=\"sk-toggleable__content\"><pre>StandardScaler()</pre></div></div></div></div></div></div></div></div><div class=\"sk-item\"><div class=\"sk-estimator sk-toggleable\"><input class=\"sk-toggleable__control sk-hidden--visually\" id=\"sk-estimator-id-7\" type=\"checkbox\" ><label for=\"sk-estimator-id-7\" class=\"sk-toggleable__label sk-toggleable__label-arrow\">ExtraTreeClassifier</label><div class=\"sk-toggleable__content\"><pre>ExtraTreeClassifier()</pre></div></div></div></div></div></div></div>"
      ],
      "text/plain": [
       "Pipeline(steps=[('preprocess',\n",
       "                 ColumnTransformer(transformers=[('categorical_preprocessing',\n",
       "                                                  OneHotEncoder(handle_unknown='ignore'),\n",
       "                                                  ['OriginCityMarketID',\n",
       "                                                   'ItinGeoType',\n",
       "                                                   'CouponGeoType', 'RPCarrier',\n",
       "                                                   'RoundTrip', 'FareClass',\n",
       "                                                   'OnLine']),\n",
       "                                                 ('numerical_preprocessing',\n",
       "                                                  StandardScaler(),\n",
       "                                                  ['Passengers'])])),\n",
       "                ('ETC', ExtraTreeClassifier())])"
      ]
     },
     "execution_count": 19,
     "metadata": {},
     "output_type": "execute_result"
    }
   ],
   "source": [
    "%%time \n",
    "DTC_pipe_fil.fit(X_train, y_train)\n",
    "ETC_pipe_fil.fit(X_train, y_train)"
   ]
  },
  {
   "cell_type": "code",
   "execution_count": 20,
   "id": "324fbf41",
   "metadata": {},
   "outputs": [
    {
     "name": "stdout",
     "output_type": "stream",
     "text": [
      "CPU times: user 23.6 s, sys: 500 ms, total: 24.1 s\n",
      "Wall time: 24.1 s\n"
     ]
    },
    {
     "data": {
      "text/html": [
       "<style>#sk-container-id-2 {color: black;background-color: white;}#sk-container-id-2 pre{padding: 0;}#sk-container-id-2 div.sk-toggleable {background-color: white;}#sk-container-id-2 label.sk-toggleable__label {cursor: pointer;display: block;width: 100%;margin-bottom: 0;padding: 0.3em;box-sizing: border-box;text-align: center;}#sk-container-id-2 label.sk-toggleable__label-arrow:before {content: \"▸\";float: left;margin-right: 0.25em;color: #696969;}#sk-container-id-2 label.sk-toggleable__label-arrow:hover:before {color: black;}#sk-container-id-2 div.sk-estimator:hover label.sk-toggleable__label-arrow:before {color: black;}#sk-container-id-2 div.sk-toggleable__content {max-height: 0;max-width: 0;overflow: hidden;text-align: left;background-color: #f0f8ff;}#sk-container-id-2 div.sk-toggleable__content pre {margin: 0.2em;color: black;border-radius: 0.25em;background-color: #f0f8ff;}#sk-container-id-2 input.sk-toggleable__control:checked~div.sk-toggleable__content {max-height: 200px;max-width: 100%;overflow: auto;}#sk-container-id-2 input.sk-toggleable__control:checked~label.sk-toggleable__label-arrow:before {content: \"▾\";}#sk-container-id-2 div.sk-estimator input.sk-toggleable__control:checked~label.sk-toggleable__label {background-color: #d4ebff;}#sk-container-id-2 div.sk-label input.sk-toggleable__control:checked~label.sk-toggleable__label {background-color: #d4ebff;}#sk-container-id-2 input.sk-hidden--visually {border: 0;clip: rect(1px 1px 1px 1px);clip: rect(1px, 1px, 1px, 1px);height: 1px;margin: -1px;overflow: hidden;padding: 0;position: absolute;width: 1px;}#sk-container-id-2 div.sk-estimator {font-family: monospace;background-color: #f0f8ff;border: 1px dotted black;border-radius: 0.25em;box-sizing: border-box;margin-bottom: 0.5em;}#sk-container-id-2 div.sk-estimator:hover {background-color: #d4ebff;}#sk-container-id-2 div.sk-parallel-item::after {content: \"\";width: 100%;border-bottom: 1px solid gray;flex-grow: 1;}#sk-container-id-2 div.sk-label:hover label.sk-toggleable__label {background-color: #d4ebff;}#sk-container-id-2 div.sk-serial::before {content: \"\";position: absolute;border-left: 1px solid gray;box-sizing: border-box;top: 0;bottom: 0;left: 50%;z-index: 0;}#sk-container-id-2 div.sk-serial {display: flex;flex-direction: column;align-items: center;background-color: white;padding-right: 0.2em;padding-left: 0.2em;position: relative;}#sk-container-id-2 div.sk-item {position: relative;z-index: 1;}#sk-container-id-2 div.sk-parallel {display: flex;align-items: stretch;justify-content: center;background-color: white;position: relative;}#sk-container-id-2 div.sk-item::before, #sk-container-id-2 div.sk-parallel-item::before {content: \"\";position: absolute;border-left: 1px solid gray;box-sizing: border-box;top: 0;bottom: 0;left: 50%;z-index: -1;}#sk-container-id-2 div.sk-parallel-item {display: flex;flex-direction: column;z-index: 1;position: relative;background-color: white;}#sk-container-id-2 div.sk-parallel-item:first-child::after {align-self: flex-end;width: 50%;}#sk-container-id-2 div.sk-parallel-item:last-child::after {align-self: flex-start;width: 50%;}#sk-container-id-2 div.sk-parallel-item:only-child::after {width: 0;}#sk-container-id-2 div.sk-dashed-wrapped {border: 1px dashed gray;margin: 0 0.4em 0.5em 0.4em;box-sizing: border-box;padding-bottom: 0.4em;background-color: white;}#sk-container-id-2 div.sk-label label {font-family: monospace;font-weight: bold;display: inline-block;line-height: 1.2em;}#sk-container-id-2 div.sk-label-container {text-align: center;}#sk-container-id-2 div.sk-container {/* jupyter's `normalize.less` sets `[hidden] { display: none; }` but bootstrap.min.css set `[hidden] { display: none !important; }` so we also need the `!important` here to be able to override the default hidden behavior on the sphinx rendered scikit-learn.org. See: https://github.com/scikit-learn/scikit-learn/issues/21755 */display: inline-block !important;position: relative;}#sk-container-id-2 div.sk-text-repr-fallback {display: none;}</style><div id=\"sk-container-id-2\" class=\"sk-top-container\"><div class=\"sk-text-repr-fallback\"><pre>Pipeline(steps=[(&#x27;preprocess&#x27;,\n",
       "                 ColumnTransformer(transformers=[(&#x27;categorical_preprocessing&#x27;,\n",
       "                                                  OneHotEncoder(handle_unknown=&#x27;ignore&#x27;),\n",
       "                                                  [&#x27;OriginCityMarketID&#x27;,\n",
       "                                                   &#x27;ItinGeoType&#x27;,\n",
       "                                                   &#x27;CouponGeoType&#x27;, &#x27;RPCarrier&#x27;,\n",
       "                                                   &#x27;RoundTrip&#x27;, &#x27;FareClass&#x27;,\n",
       "                                                   &#x27;OnLine&#x27;]),\n",
       "                                                 (&#x27;numerical_preprocessing&#x27;,\n",
       "                                                  StandardScaler(),\n",
       "                                                  [&#x27;Passengers&#x27;])])),\n",
       "                (&#x27;RFC&#x27;, RandomForestClassifier())])</pre><b>In a Jupyter environment, please rerun this cell to show the HTML representation or trust the notebook. <br />On GitHub, the HTML representation is unable to render, please try loading this page with nbviewer.org.</b></div><div class=\"sk-container\" hidden><div class=\"sk-item sk-dashed-wrapped\"><div class=\"sk-label-container\"><div class=\"sk-label sk-toggleable\"><input class=\"sk-toggleable__control sk-hidden--visually\" id=\"sk-estimator-id-8\" type=\"checkbox\" ><label for=\"sk-estimator-id-8\" class=\"sk-toggleable__label sk-toggleable__label-arrow\">Pipeline</label><div class=\"sk-toggleable__content\"><pre>Pipeline(steps=[(&#x27;preprocess&#x27;,\n",
       "                 ColumnTransformer(transformers=[(&#x27;categorical_preprocessing&#x27;,\n",
       "                                                  OneHotEncoder(handle_unknown=&#x27;ignore&#x27;),\n",
       "                                                  [&#x27;OriginCityMarketID&#x27;,\n",
       "                                                   &#x27;ItinGeoType&#x27;,\n",
       "                                                   &#x27;CouponGeoType&#x27;, &#x27;RPCarrier&#x27;,\n",
       "                                                   &#x27;RoundTrip&#x27;, &#x27;FareClass&#x27;,\n",
       "                                                   &#x27;OnLine&#x27;]),\n",
       "                                                 (&#x27;numerical_preprocessing&#x27;,\n",
       "                                                  StandardScaler(),\n",
       "                                                  [&#x27;Passengers&#x27;])])),\n",
       "                (&#x27;RFC&#x27;, RandomForestClassifier())])</pre></div></div></div><div class=\"sk-serial\"><div class=\"sk-item sk-dashed-wrapped\"><div class=\"sk-label-container\"><div class=\"sk-label sk-toggleable\"><input class=\"sk-toggleable__control sk-hidden--visually\" id=\"sk-estimator-id-9\" type=\"checkbox\" ><label for=\"sk-estimator-id-9\" class=\"sk-toggleable__label sk-toggleable__label-arrow\">preprocess: ColumnTransformer</label><div class=\"sk-toggleable__content\"><pre>ColumnTransformer(transformers=[(&#x27;categorical_preprocessing&#x27;,\n",
       "                                 OneHotEncoder(handle_unknown=&#x27;ignore&#x27;),\n",
       "                                 [&#x27;OriginCityMarketID&#x27;, &#x27;ItinGeoType&#x27;,\n",
       "                                  &#x27;CouponGeoType&#x27;, &#x27;RPCarrier&#x27;, &#x27;RoundTrip&#x27;,\n",
       "                                  &#x27;FareClass&#x27;, &#x27;OnLine&#x27;]),\n",
       "                                (&#x27;numerical_preprocessing&#x27;, StandardScaler(),\n",
       "                                 [&#x27;Passengers&#x27;])])</pre></div></div></div><div class=\"sk-parallel\"><div class=\"sk-parallel-item\"><div class=\"sk-item\"><div class=\"sk-label-container\"><div class=\"sk-label sk-toggleable\"><input class=\"sk-toggleable__control sk-hidden--visually\" id=\"sk-estimator-id-10\" type=\"checkbox\" ><label for=\"sk-estimator-id-10\" class=\"sk-toggleable__label sk-toggleable__label-arrow\">categorical_preprocessing</label><div class=\"sk-toggleable__content\"><pre>[&#x27;OriginCityMarketID&#x27;, &#x27;ItinGeoType&#x27;, &#x27;CouponGeoType&#x27;, &#x27;RPCarrier&#x27;, &#x27;RoundTrip&#x27;, &#x27;FareClass&#x27;, &#x27;OnLine&#x27;]</pre></div></div></div><div class=\"sk-serial\"><div class=\"sk-item\"><div class=\"sk-estimator sk-toggleable\"><input class=\"sk-toggleable__control sk-hidden--visually\" id=\"sk-estimator-id-11\" type=\"checkbox\" ><label for=\"sk-estimator-id-11\" class=\"sk-toggleable__label sk-toggleable__label-arrow\">OneHotEncoder</label><div class=\"sk-toggleable__content\"><pre>OneHotEncoder(handle_unknown=&#x27;ignore&#x27;)</pre></div></div></div></div></div></div><div class=\"sk-parallel-item\"><div class=\"sk-item\"><div class=\"sk-label-container\"><div class=\"sk-label sk-toggleable\"><input class=\"sk-toggleable__control sk-hidden--visually\" id=\"sk-estimator-id-12\" type=\"checkbox\" ><label for=\"sk-estimator-id-12\" class=\"sk-toggleable__label sk-toggleable__label-arrow\">numerical_preprocessing</label><div class=\"sk-toggleable__content\"><pre>[&#x27;Passengers&#x27;]</pre></div></div></div><div class=\"sk-serial\"><div class=\"sk-item\"><div class=\"sk-estimator sk-toggleable\"><input class=\"sk-toggleable__control sk-hidden--visually\" id=\"sk-estimator-id-13\" type=\"checkbox\" ><label for=\"sk-estimator-id-13\" class=\"sk-toggleable__label sk-toggleable__label-arrow\">StandardScaler</label><div class=\"sk-toggleable__content\"><pre>StandardScaler()</pre></div></div></div></div></div></div></div></div><div class=\"sk-item\"><div class=\"sk-estimator sk-toggleable\"><input class=\"sk-toggleable__control sk-hidden--visually\" id=\"sk-estimator-id-14\" type=\"checkbox\" ><label for=\"sk-estimator-id-14\" class=\"sk-toggleable__label sk-toggleable__label-arrow\">RandomForestClassifier</label><div class=\"sk-toggleable__content\"><pre>RandomForestClassifier()</pre></div></div></div></div></div></div></div>"
      ],
      "text/plain": [
       "Pipeline(steps=[('preprocess',\n",
       "                 ColumnTransformer(transformers=[('categorical_preprocessing',\n",
       "                                                  OneHotEncoder(handle_unknown='ignore'),\n",
       "                                                  ['OriginCityMarketID',\n",
       "                                                   'ItinGeoType',\n",
       "                                                   'CouponGeoType', 'RPCarrier',\n",
       "                                                   'RoundTrip', 'FareClass',\n",
       "                                                   'OnLine']),\n",
       "                                                 ('numerical_preprocessing',\n",
       "                                                  StandardScaler(),\n",
       "                                                  ['Passengers'])])),\n",
       "                ('RFC', RandomForestClassifier())])"
      ]
     },
     "execution_count": 20,
     "metadata": {},
     "output_type": "execute_result"
    }
   ],
   "source": [
    "%%time \n",
    "RFC_pipe_fil.fit(X_train, y_train)"
   ]
  },
  {
   "cell_type": "code",
   "execution_count": 21,
   "id": "9a2690e4",
   "metadata": {},
   "outputs": [],
   "source": [
    "DTC_prediction = DTC_pipe_fil.predict(X_test)\n",
    "ETC_prediction = ETC_pipe_fil.predict(X_test)\n",
    "RFC_prediction = RFC_pipe_fil.predict(X_test)"
   ]
  },
  {
   "cell_type": "code",
   "execution_count": 22,
   "id": "22313a85",
   "metadata": {
    "scrolled": true
   },
   "outputs": [
    {
     "name": "stdout",
     "output_type": "stream",
     "text": [
      "0.6155504648969141\n",
      "0.610699366662175\n",
      "0.6256569195526209\n"
     ]
    }
   ],
   "source": [
    "# Accuracy score is the simplest way to evaluate\n",
    "print(accuracy_score(DTC_prediction, y_test))\n",
    "print(accuracy_score(ETC_prediction, y_test))\n",
    "print(accuracy_score(RFC_prediction, y_test))\n"
   ]
  },
  {
   "cell_type": "code",
   "execution_count": 23,
   "id": "51fbf0ed",
   "metadata": {},
   "outputs": [
    {
     "name": "stdout",
     "output_type": "stream",
     "text": [
      "              precision    recall  f1-score   support\n",
      "\n",
      "   long-haul       0.57      0.57      0.57      1256\n",
      " medium-haul       0.59      0.55      0.57      2976\n",
      "  short-haul       0.65      0.69      0.67      3189\n",
      "\n",
      "    accuracy                           0.62      7421\n",
      "   macro avg       0.61      0.61      0.60      7421\n",
      "weighted avg       0.61      0.62      0.61      7421\n",
      "\n",
      "              precision    recall  f1-score   support\n",
      "\n",
      "   long-haul       0.57      0.56      0.56      1278\n",
      " medium-haul       0.58      0.55      0.57      2973\n",
      "  short-haul       0.65      0.69      0.67      3170\n",
      "\n",
      "    accuracy                           0.61      7421\n",
      "   macro avg       0.60      0.60      0.60      7421\n",
      "weighted avg       0.61      0.61      0.61      7421\n",
      "\n",
      "              precision    recall  f1-score   support\n",
      "\n",
      "   long-haul       0.54      0.61      0.57      1107\n",
      " medium-haul       0.57      0.57      0.57      2808\n",
      "  short-haul       0.70      0.68      0.69      3506\n",
      "\n",
      "    accuracy                           0.63      7421\n",
      "   macro avg       0.60      0.62      0.61      7421\n",
      "weighted avg       0.63      0.63      0.63      7421\n",
      "\n"
     ]
    }
   ],
   "source": [
    "# But Confusion Matrix and Classification Report give more details about performance\n",
    "print(classification_report(DTC_prediction, y_test))\n",
    "print(classification_report(ETC_prediction, y_test))\n",
    "print(classification_report(RFC_prediction, y_test))\n"
   ]
  },
  {
   "cell_type": "code",
   "execution_count": 24,
   "id": "7c3596a3",
   "metadata": {
    "scrolled": true
   },
   "outputs": [
    {
     "name": "stdout",
     "output_type": "stream",
     "text": [
      "DecisionTree\n"
     ]
    },
    {
     "data": {
      "text/plain": [
       "<sklearn.metrics._plot.confusion_matrix.ConfusionMatrixDisplay at 0x7f7bbe9354c0>"
      ]
     },
     "execution_count": 24,
     "metadata": {},
     "output_type": "execute_result"
    },
    {
     "data": {
      "image/png": "[encoded data removed]",
      "text/plain": [
       "<Figure size 432x288 with 2 Axes>"
      ]
     },
     "metadata": {
      "needs_background": "light"
     },
     "output_type": "display_data"
    }
   ],
   "source": [
    "from sklearn import metrics\n",
    "print('DecisionTree')\n",
    "confusion_matrix = metrics.confusion_matrix(y_test, DTC_prediction)\n",
    "\n",
    "cm_display1 = metrics.ConfusionMatrixDisplay(confusion_matrix = confusion_matrix,display_labels = ['Long', 'Medium','Short'])\n",
    "\n",
    "cm_display1.plot()"
   ]
  },
  {
   "cell_type": "code",
   "execution_count": 25,
   "id": "ff7f4717",
   "metadata": {},
   "outputs": [
    {
     "name": "stdout",
     "output_type": "stream",
     "text": [
      "ExtraTree\n"
     ]
    },
    {
     "data": {
      "text/plain": [
       "<sklearn.metrics._plot.confusion_matrix.ConfusionMatrixDisplay at 0x7f7eaf7c5ee0>"
      ]
     },
     "execution_count": 25,
     "metadata": {},
     "output_type": "execute_result"
    },
    {
     "data": {
      "image/png": "[encoded data removed]",
      "text/plain": [
       "<Figure size 432x288 with 2 Axes>"
      ]
     },
     "metadata": {
      "needs_background": "light"
     },
     "output_type": "display_data"
    }
   ],
   "source": [
    "print('ExtraTree')\n",
    "confusion_matrix = metrics.confusion_matrix(y_test, ETC_prediction)\n",
    "\n",
    "cm_display1 = metrics.ConfusionMatrixDisplay(confusion_matrix = confusion_matrix,display_labels = ['Long', 'Medium','Short'])\n",
    "\n",
    "cm_display1.plot()"
   ]
  },
  {
   "cell_type": "code",
   "execution_count": 26,
   "id": "adaa85be",
   "metadata": {
    "scrolled": true
   },
   "outputs": [
    {
     "name": "stdout",
     "output_type": "stream",
     "text": [
      "RandomForest\n"
     ]
    },
    {
     "data": {
      "text/plain": [
       "<sklearn.metrics._plot.confusion_matrix.ConfusionMatrixDisplay at 0x7f7eaf7e44f0>"
      ]
     },
     "execution_count": 26,
     "metadata": {},
     "output_type": "execute_result"
    },
    {
     "data": {
      "image/png": "[encoded data removed]",
      "text/plain": [
       "<Figure size 432x288 with 2 Axes>"
      ]
     },
     "metadata": {
      "needs_background": "light"
     },
     "output_type": "display_data"
    }
   ],
   "source": [
    "print('RandomForest')\n",
    "confusion_matrix = metrics.confusion_matrix(y_test, RFC_prediction)\n",
    "\n",
    "cm_display1 = metrics.ConfusionMatrixDisplay(confusion_matrix = confusion_matrix,display_labels = ['Long', 'Medium','Short'])\n",
    "\n",
    "cm_display1.plot()"
   ]
  },
  {
   "cell_type": "markdown",
   "id": "06982ae0",
   "metadata": {},
   "source": [
    "### Trail 2"
   ]
  },
  {
   "cell_type": "code",
   "execution_count": 27,
   "id": "7037fd41",
   "metadata": {},
   "outputs": [],
   "source": [
    "DTC_pipe_fil = Pipeline([(\"preprocess\", ColumnTransformer([\n",
    "    ('categorical_preprocessing', encode, [ \n",
    "                    \"OriginCityMarketID\",  \n",
    "                            \"RPCarrier\", \"RoundTrip\", \"FareClass\",'OnLine']),\n",
    "    ('numerical_preprocessing', scaler, [\"FarePerMile\",\"Passengers\"\n",
    "                            ])\n",
    "])), (\"DTC\", DecisionTreeClassifier())])\n",
    "\n",
    "\n",
    "ETC_pipe_fil = Pipeline([(\"preprocess\", ColumnTransformer([\n",
    "    ('categorical_preprocessing', encode, [ \n",
    "                    \"OriginCityMarketID\", \n",
    "                            \"RPCarrier\", \"RoundTrip\", \"FareClass\",'OnLine']),\n",
    "    ('numerical_preprocessing', scaler, [\"FarePerMile\",\"Passengers\"\n",
    "                            ])\n",
    "])), (\"ETC\", ExtraTreeClassifier())])\n",
    "\n",
    "\n",
    "RFC_pipe_fil = Pipeline([(\"preprocess\", ColumnTransformer([\n",
    "    ('categorical_preprocessing', encode, [ \n",
    "                    \"OriginCityMarketID\", \n",
    "                            \"RPCarrier\", \"RoundTrip\", \"FareClass\",'OnLine']),\n",
    "    ('numerical_preprocessing', scaler, [\"FarePerMile\",\"Passengers\"\n",
    "                            ])\n",
    "])), (\"RFC\", RandomForestClassifier())])\n"
   ]
  },
  {
   "cell_type": "code",
   "execution_count": 28,
   "id": "029dc712",
   "metadata": {},
   "outputs": [
    {
     "name": "stdout",
     "output_type": "stream",
     "text": [
      "CPU times: user 1.87 s, sys: 45.9 ms, total: 1.92 s\n",
      "Wall time: 1.92 s\n"
     ]
    },
    {
     "data": {
      "text/html": [
       "<style>#sk-container-id-3 {color: black;background-color: white;}#sk-container-id-3 pre{padding: 0;}#sk-container-id-3 div.sk-toggleable {background-color: white;}#sk-container-id-3 label.sk-toggleable__label {cursor: pointer;display: block;width: 100%;margin-bottom: 0;padding: 0.3em;box-sizing: border-box;text-align: center;}#sk-container-id-3 label.sk-toggleable__label-arrow:before {content: \"▸\";float: left;margin-right: 0.25em;color: #696969;}#sk-container-id-3 label.sk-toggleable__label-arrow:hover:before {color: black;}#sk-container-id-3 div.sk-estimator:hover label.sk-toggleable__label-arrow:before {color: black;}#sk-container-id-3 div.sk-toggleable__content {max-height: 0;max-width: 0;overflow: hidden;text-align: left;background-color: #f0f8ff;}#sk-container-id-3 div.sk-toggleable__content pre {margin: 0.2em;color: black;border-radius: 0.25em;background-color: #f0f8ff;}#sk-container-id-3 input.sk-toggleable__control:checked~div.sk-toggleable__content {max-height: 200px;max-width: 100%;overflow: auto;}#sk-container-id-3 input.sk-toggleable__control:checked~label.sk-toggleable__label-arrow:before {content: \"▾\";}#sk-container-id-3 div.sk-estimator input.sk-toggleable__control:checked~label.sk-toggleable__label {background-color: #d4ebff;}#sk-container-id-3 div.sk-label input.sk-toggleable__control:checked~label.sk-toggleable__label {background-color: #d4ebff;}#sk-container-id-3 input.sk-hidden--visually {border: 0;clip: rect(1px 1px 1px 1px);clip: rect(1px, 1px, 1px, 1px);height: 1px;margin: -1px;overflow: hidden;padding: 0;position: absolute;width: 1px;}#sk-container-id-3 div.sk-estimator {font-family: monospace;background-color: #f0f8ff;border: 1px dotted black;border-radius: 0.25em;box-sizing: border-box;margin-bottom: 0.5em;}#sk-container-id-3 div.sk-estimator:hover {background-color: #d4ebff;}#sk-container-id-3 div.sk-parallel-item::after {content: \"\";width: 100%;border-bottom: 1px solid gray;flex-grow: 1;}#sk-container-id-3 div.sk-label:hover label.sk-toggleable__label {background-color: #d4ebff;}#sk-container-id-3 div.sk-serial::before {content: \"\";position: absolute;border-left: 1px solid gray;box-sizing: border-box;top: 0;bottom: 0;left: 50%;z-index: 0;}#sk-container-id-3 div.sk-serial {display: flex;flex-direction: column;align-items: center;background-color: white;padding-right: 0.2em;padding-left: 0.2em;position: relative;}#sk-container-id-3 div.sk-item {position: relative;z-index: 1;}#sk-container-id-3 div.sk-parallel {display: flex;align-items: stretch;justify-content: center;background-color: white;position: relative;}#sk-container-id-3 div.sk-item::before, #sk-container-id-3 div.sk-parallel-item::before {content: \"\";position: absolute;border-left: 1px solid gray;box-sizing: border-box;top: 0;bottom: 0;left: 50%;z-index: -1;}#sk-container-id-3 div.sk-parallel-item {display: flex;flex-direction: column;z-index: 1;position: relative;background-color: white;}#sk-container-id-3 div.sk-parallel-item:first-child::after {align-self: flex-end;width: 50%;}#sk-container-id-3 div.sk-parallel-item:last-child::after {align-self: flex-start;width: 50%;}#sk-container-id-3 div.sk-parallel-item:only-child::after {width: 0;}#sk-container-id-3 div.sk-dashed-wrapped {border: 1px dashed gray;margin: 0 0.4em 0.5em 0.4em;box-sizing: border-box;padding-bottom: 0.4em;background-color: white;}#sk-container-id-3 div.sk-label label {font-family: monospace;font-weight: bold;display: inline-block;line-height: 1.2em;}#sk-container-id-3 div.sk-label-container {text-align: center;}#sk-container-id-3 div.sk-container {/* jupyter's `normalize.less` sets `[hidden] { display: none; }` but bootstrap.min.css set `[hidden] { display: none !important; }` so we also need the `!important` here to be able to override the default hidden behavior on the sphinx rendered scikit-learn.org. See: https://github.com/scikit-learn/scikit-learn/issues/21755 */display: inline-block !important;position: relative;}#sk-container-id-3 div.sk-text-repr-fallback {display: none;}</style><div id=\"sk-container-id-3\" class=\"sk-top-container\"><div class=\"sk-text-repr-fallback\"><pre>Pipeline(steps=[(&#x27;preprocess&#x27;,\n",
       "                 ColumnTransformer(transformers=[(&#x27;categorical_preprocessing&#x27;,\n",
       "                                                  OneHotEncoder(handle_unknown=&#x27;ignore&#x27;),\n",
       "                                                  [&#x27;OriginCityMarketID&#x27;,\n",
       "                                                   &#x27;RPCarrier&#x27;, &#x27;RoundTrip&#x27;,\n",
       "                                                   &#x27;FareClass&#x27;, &#x27;OnLine&#x27;]),\n",
       "                                                 (&#x27;numerical_preprocessing&#x27;,\n",
       "                                                  StandardScaler(),\n",
       "                                                  [&#x27;FarePerMile&#x27;,\n",
       "                                                   &#x27;Passengers&#x27;])])),\n",
       "                (&#x27;ETC&#x27;, ExtraTreeClassifier())])</pre><b>In a Jupyter environment, please rerun this cell to show the HTML representation or trust the notebook. <br />On GitHub, the HTML representation is unable to render, please try loading this page with nbviewer.org.</b></div><div class=\"sk-container\" hidden><div class=\"sk-item sk-dashed-wrapped\"><div class=\"sk-label-container\"><div class=\"sk-label sk-toggleable\"><input class=\"sk-toggleable__control sk-hidden--visually\" id=\"sk-estimator-id-15\" type=\"checkbox\" ><label for=\"sk-estimator-id-15\" class=\"sk-toggleable__label sk-toggleable__label-arrow\">Pipeline</label><div class=\"sk-toggleable__content\"><pre>Pipeline(steps=[(&#x27;preprocess&#x27;,\n",
       "                 ColumnTransformer(transformers=[(&#x27;categorical_preprocessing&#x27;,\n",
       "                                                  OneHotEncoder(handle_unknown=&#x27;ignore&#x27;),\n",
       "                                                  [&#x27;OriginCityMarketID&#x27;,\n",
       "                                                   &#x27;RPCarrier&#x27;, &#x27;RoundTrip&#x27;,\n",
       "                                                   &#x27;FareClass&#x27;, &#x27;OnLine&#x27;]),\n",
       "                                                 (&#x27;numerical_preprocessing&#x27;,\n",
       "                                                  StandardScaler(),\n",
       "                                                  [&#x27;FarePerMile&#x27;,\n",
       "                                                   &#x27;Passengers&#x27;])])),\n",
       "                (&#x27;ETC&#x27;, ExtraTreeClassifier())])</pre></div></div></div><div class=\"sk-serial\"><div class=\"sk-item sk-dashed-wrapped\"><div class=\"sk-label-container\"><div class=\"sk-label sk-toggleable\"><input class=\"sk-toggleable__control sk-hidden--visually\" id=\"sk-estimator-id-16\" type=\"checkbox\" ><label for=\"sk-estimator-id-16\" class=\"sk-toggleable__label sk-toggleable__label-arrow\">preprocess: ColumnTransformer</label><div class=\"sk-toggleable__content\"><pre>ColumnTransformer(transformers=[(&#x27;categorical_preprocessing&#x27;,\n",
       "                                 OneHotEncoder(handle_unknown=&#x27;ignore&#x27;),\n",
       "                                 [&#x27;OriginCityMarketID&#x27;, &#x27;RPCarrier&#x27;,\n",
       "                                  &#x27;RoundTrip&#x27;, &#x27;FareClass&#x27;, &#x27;OnLine&#x27;]),\n",
       "                                (&#x27;numerical_preprocessing&#x27;, StandardScaler(),\n",
       "                                 [&#x27;FarePerMile&#x27;, &#x27;Passengers&#x27;])])</pre></div></div></div><div class=\"sk-parallel\"><div class=\"sk-parallel-item\"><div class=\"sk-item\"><div class=\"sk-label-container\"><div class=\"sk-label sk-toggleable\"><input class=\"sk-toggleable__control sk-hidden--visually\" id=\"sk-estimator-id-17\" type=\"checkbox\" ><label for=\"sk-estimator-id-17\" class=\"sk-toggleable__label sk-toggleable__label-arrow\">categorical_preprocessing</label><div class=\"sk-toggleable__content\"><pre>[&#x27;OriginCityMarketID&#x27;, &#x27;RPCarrier&#x27;, &#x27;RoundTrip&#x27;, &#x27;FareClass&#x27;, &#x27;OnLine&#x27;]</pre></div></div></div><div class=\"sk-serial\"><div class=\"sk-item\"><div class=\"sk-estimator sk-toggleable\"><input class=\"sk-toggleable__control sk-hidden--visually\" id=\"sk-estimator-id-18\" type=\"checkbox\" ><label for=\"sk-estimator-id-18\" class=\"sk-toggleable__label sk-toggleable__label-arrow\">OneHotEncoder</label><div class=\"sk-toggleable__content\"><pre>OneHotEncoder(handle_unknown=&#x27;ignore&#x27;)</pre></div></div></div></div></div></div><div class=\"sk-parallel-item\"><div class=\"sk-item\"><div class=\"sk-label-container\"><div class=\"sk-label sk-toggleable\"><input class=\"sk-toggleable__control sk-hidden--visually\" id=\"sk-estimator-id-19\" type=\"checkbox\" ><label for=\"sk-estimator-id-19\" class=\"sk-toggleable__label sk-toggleable__label-arrow\">numerical_preprocessing</label><div class=\"sk-toggleable__content\"><pre>[&#x27;FarePerMile&#x27;, &#x27;Passengers&#x27;]</pre></div></div></div><div class=\"sk-serial\"><div class=\"sk-item\"><div class=\"sk-estimator sk-toggleable\"><input class=\"sk-toggleable__control sk-hidden--visually\" id=\"sk-estimator-id-20\" type=\"checkbox\" ><label for=\"sk-estimator-id-20\" class=\"sk-toggleable__label sk-toggleable__label-arrow\">StandardScaler</label><div class=\"sk-toggleable__content\"><pre>StandardScaler()</pre></div></div></div></div></div></div></div></div><div class=\"sk-item\"><div class=\"sk-estimator sk-toggleable\"><input class=\"sk-toggleable__control sk-hidden--visually\" id=\"sk-estimator-id-21\" type=\"checkbox\" ><label for=\"sk-estimator-id-21\" class=\"sk-toggleable__label sk-toggleable__label-arrow\">ExtraTreeClassifier</label><div class=\"sk-toggleable__content\"><pre>ExtraTreeClassifier()</pre></div></div></div></div></div></div></div>"
      ],
      "text/plain": [
       "Pipeline(steps=[('preprocess',\n",
       "                 ColumnTransformer(transformers=[('categorical_preprocessing',\n",
       "                                                  OneHotEncoder(handle_unknown='ignore'),\n",
       "                                                  ['OriginCityMarketID',\n",
       "                                                   'RPCarrier', 'RoundTrip',\n",
       "                                                   'FareClass', 'OnLine']),\n",
       "                                                 ('numerical_preprocessing',\n",
       "                                                  StandardScaler(),\n",
       "                                                  ['FarePerMile',\n",
       "                                                   'Passengers'])])),\n",
       "                ('ETC', ExtraTreeClassifier())])"
      ]
     },
     "execution_count": 28,
     "metadata": {},
     "output_type": "execute_result"
    }
   ],
   "source": [
    "%%time \n",
    "DTC_pipe_fil.fit(X_train, y_train)\n",
    "ETC_pipe_fil.fit(X_train, y_train)"
   ]
  },
  {
   "cell_type": "code",
   "execution_count": 29,
   "id": "0cc45b4e",
   "metadata": {},
   "outputs": [
    {
     "name": "stdout",
     "output_type": "stream",
     "text": [
      "CPU times: user 30.2 s, sys: 576 ms, total: 30.7 s\n",
      "Wall time: 30.7 s\n"
     ]
    },
    {
     "data": {
      "text/html": [
       "<style>#sk-container-id-4 {color: black;background-color: white;}#sk-container-id-4 pre{padding: 0;}#sk-container-id-4 div.sk-toggleable {background-color: white;}#sk-container-id-4 label.sk-toggleable__label {cursor: pointer;display: block;width: 100%;margin-bottom: 0;padding: 0.3em;box-sizing: border-box;text-align: center;}#sk-container-id-4 label.sk-toggleable__label-arrow:before {content: \"▸\";float: left;margin-right: 0.25em;color: #696969;}#sk-container-id-4 label.sk-toggleable__label-arrow:hover:before {color: black;}#sk-container-id-4 div.sk-estimator:hover label.sk-toggleable__label-arrow:before {color: black;}#sk-container-id-4 div.sk-toggleable__content {max-height: 0;max-width: 0;overflow: hidden;text-align: left;background-color: #f0f8ff;}#sk-container-id-4 div.sk-toggleable__content pre {margin: 0.2em;color: black;border-radius: 0.25em;background-color: #f0f8ff;}#sk-container-id-4 input.sk-toggleable__control:checked~div.sk-toggleable__content {max-height: 200px;max-width: 100%;overflow: auto;}#sk-container-id-4 input.sk-toggleable__control:checked~label.sk-toggleable__label-arrow:before {content: \"▾\";}#sk-container-id-4 div.sk-estimator input.sk-toggleable__control:checked~label.sk-toggleable__label {background-color: #d4ebff;}#sk-container-id-4 div.sk-label input.sk-toggleable__control:checked~label.sk-toggleable__label {background-color: #d4ebff;}#sk-container-id-4 input.sk-hidden--visually {border: 0;clip: rect(1px 1px 1px 1px);clip: rect(1px, 1px, 1px, 1px);height: 1px;margin: -1px;overflow: hidden;padding: 0;position: absolute;width: 1px;}#sk-container-id-4 div.sk-estimator {font-family: monospace;background-color: #f0f8ff;border: 1px dotted black;border-radius: 0.25em;box-sizing: border-box;margin-bottom: 0.5em;}#sk-container-id-4 div.sk-estimator:hover {background-color: #d4ebff;}#sk-container-id-4 div.sk-parallel-item::after {content: \"\";width: 100%;border-bottom: 1px solid gray;flex-grow: 1;}#sk-container-id-4 div.sk-label:hover label.sk-toggleable__label {background-color: #d4ebff;}#sk-container-id-4 div.sk-serial::before {content: \"\";position: absolute;border-left: 1px solid gray;box-sizing: border-box;top: 0;bottom: 0;left: 50%;z-index: 0;}#sk-container-id-4 div.sk-serial {display: flex;flex-direction: column;align-items: center;background-color: white;padding-right: 0.2em;padding-left: 0.2em;position: relative;}#sk-container-id-4 div.sk-item {position: relative;z-index: 1;}#sk-container-id-4 div.sk-parallel {display: flex;align-items: stretch;justify-content: center;background-color: white;position: relative;}#sk-container-id-4 div.sk-item::before, #sk-container-id-4 div.sk-parallel-item::before {content: \"\";position: absolute;border-left: 1px solid gray;box-sizing: border-box;top: 0;bottom: 0;left: 50%;z-index: -1;}#sk-container-id-4 div.sk-parallel-item {display: flex;flex-direction: column;z-index: 1;position: relative;background-color: white;}#sk-container-id-4 div.sk-parallel-item:first-child::after {align-self: flex-end;width: 50%;}#sk-container-id-4 div.sk-parallel-item:last-child::after {align-self: flex-start;width: 50%;}#sk-container-id-4 div.sk-parallel-item:only-child::after {width: 0;}#sk-container-id-4 div.sk-dashed-wrapped {border: 1px dashed gray;margin: 0 0.4em 0.5em 0.4em;box-sizing: border-box;padding-bottom: 0.4em;background-color: white;}#sk-container-id-4 div.sk-label label {font-family: monospace;font-weight: bold;display: inline-block;line-height: 1.2em;}#sk-container-id-4 div.sk-label-container {text-align: center;}#sk-container-id-4 div.sk-container {/* jupyter's `normalize.less` sets `[hidden] { display: none; }` but bootstrap.min.css set `[hidden] { display: none !important; }` so we also need the `!important` here to be able to override the default hidden behavior on the sphinx rendered scikit-learn.org. See: https://github.com/scikit-learn/scikit-learn/issues/21755 */display: inline-block !important;position: relative;}#sk-container-id-4 div.sk-text-repr-fallback {display: none;}</style><div id=\"sk-container-id-4\" class=\"sk-top-container\"><div class=\"sk-text-repr-fallback\"><pre>Pipeline(steps=[(&#x27;preprocess&#x27;,\n",
       "                 ColumnTransformer(transformers=[(&#x27;categorical_preprocessing&#x27;,\n",
       "                                                  OneHotEncoder(handle_unknown=&#x27;ignore&#x27;),\n",
       "                                                  [&#x27;OriginCityMarketID&#x27;,\n",
       "                                                   &#x27;RPCarrier&#x27;, &#x27;RoundTrip&#x27;,\n",
       "                                                   &#x27;FareClass&#x27;, &#x27;OnLine&#x27;]),\n",
       "                                                 (&#x27;numerical_preprocessing&#x27;,\n",
       "                                                  StandardScaler(),\n",
       "                                                  [&#x27;FarePerMile&#x27;,\n",
       "                                                   &#x27;Passengers&#x27;])])),\n",
       "                (&#x27;RFC&#x27;, RandomForestClassifier())])</pre><b>In a Jupyter environment, please rerun this cell to show the HTML representation or trust the notebook. <br />On GitHub, the HTML representation is unable to render, please try loading this page with nbviewer.org.</b></div><div class=\"sk-container\" hidden><div class=\"sk-item sk-dashed-wrapped\"><div class=\"sk-label-container\"><div class=\"sk-label sk-toggleable\"><input class=\"sk-toggleable__control sk-hidden--visually\" id=\"sk-estimator-id-22\" type=\"checkbox\" ><label for=\"sk-estimator-id-22\" class=\"sk-toggleable__label sk-toggleable__label-arrow\">Pipeline</label><div class=\"sk-toggleable__content\"><pre>Pipeline(steps=[(&#x27;preprocess&#x27;,\n",
       "                 ColumnTransformer(transformers=[(&#x27;categorical_preprocessing&#x27;,\n",
       "                                                  OneHotEncoder(handle_unknown=&#x27;ignore&#x27;),\n",
       "                                                  [&#x27;OriginCityMarketID&#x27;,\n",
       "                                                   &#x27;RPCarrier&#x27;, &#x27;RoundTrip&#x27;,\n",
       "                                                   &#x27;FareClass&#x27;, &#x27;OnLine&#x27;]),\n",
       "                                                 (&#x27;numerical_preprocessing&#x27;,\n",
       "                                                  StandardScaler(),\n",
       "                                                  [&#x27;FarePerMile&#x27;,\n",
       "                                                   &#x27;Passengers&#x27;])])),\n",
       "                (&#x27;RFC&#x27;, RandomForestClassifier())])</pre></div></div></div><div class=\"sk-serial\"><div class=\"sk-item sk-dashed-wrapped\"><div class=\"sk-label-container\"><div class=\"sk-label sk-toggleable\"><input class=\"sk-toggleable__control sk-hidden--visually\" id=\"sk-estimator-id-23\" type=\"checkbox\" ><label for=\"sk-estimator-id-23\" class=\"sk-toggleable__label sk-toggleable__label-arrow\">preprocess: ColumnTransformer</label><div class=\"sk-toggleable__content\"><pre>ColumnTransformer(transformers=[(&#x27;categorical_preprocessing&#x27;,\n",
       "                                 OneHotEncoder(handle_unknown=&#x27;ignore&#x27;),\n",
       "                                 [&#x27;OriginCityMarketID&#x27;, &#x27;RPCarrier&#x27;,\n",
       "                                  &#x27;RoundTrip&#x27;, &#x27;FareClass&#x27;, &#x27;OnLine&#x27;]),\n",
       "                                (&#x27;numerical_preprocessing&#x27;, StandardScaler(),\n",
       "                                 [&#x27;FarePerMile&#x27;, &#x27;Passengers&#x27;])])</pre></div></div></div><div class=\"sk-parallel\"><div class=\"sk-parallel-item\"><div class=\"sk-item\"><div class=\"sk-label-container\"><div class=\"sk-label sk-toggleable\"><input class=\"sk-toggleable__control sk-hidden--visually\" id=\"sk-estimator-id-24\" type=\"checkbox\" ><label for=\"sk-estimator-id-24\" class=\"sk-toggleable__label sk-toggleable__label-arrow\">categorical_preprocessing</label><div class=\"sk-toggleable__content\"><pre>[&#x27;OriginCityMarketID&#x27;, &#x27;RPCarrier&#x27;, &#x27;RoundTrip&#x27;, &#x27;FareClass&#x27;, &#x27;OnLine&#x27;]</pre></div></div></div><div class=\"sk-serial\"><div class=\"sk-item\"><div class=\"sk-estimator sk-toggleable\"><input class=\"sk-toggleable__control sk-hidden--visually\" id=\"sk-estimator-id-25\" type=\"checkbox\" ><label for=\"sk-estimator-id-25\" class=\"sk-toggleable__label sk-toggleable__label-arrow\">OneHotEncoder</label><div class=\"sk-toggleable__content\"><pre>OneHotEncoder(handle_unknown=&#x27;ignore&#x27;)</pre></div></div></div></div></div></div><div class=\"sk-parallel-item\"><div class=\"sk-item\"><div class=\"sk-label-container\"><div class=\"sk-label sk-toggleable\"><input class=\"sk-toggleable__control sk-hidden--visually\" id=\"sk-estimator-id-26\" type=\"checkbox\" ><label for=\"sk-estimator-id-26\" class=\"sk-toggleable__label sk-toggleable__label-arrow\">numerical_preprocessing</label><div class=\"sk-toggleable__content\"><pre>[&#x27;FarePerMile&#x27;, &#x27;Passengers&#x27;]</pre></div></div></div><div class=\"sk-serial\"><div class=\"sk-item\"><div class=\"sk-estimator sk-toggleable\"><input class=\"sk-toggleable__control sk-hidden--visually\" id=\"sk-estimator-id-27\" type=\"checkbox\" ><label for=\"sk-estimator-id-27\" class=\"sk-toggleable__label sk-toggleable__label-arrow\">StandardScaler</label><div class=\"sk-toggleable__content\"><pre>StandardScaler()</pre></div></div></div></div></div></div></div></div><div class=\"sk-item\"><div class=\"sk-estimator sk-toggleable\"><input class=\"sk-toggleable__control sk-hidden--visually\" id=\"sk-estimator-id-28\" type=\"checkbox\" ><label for=\"sk-estimator-id-28\" class=\"sk-toggleable__label sk-toggleable__label-arrow\">RandomForestClassifier</label><div class=\"sk-toggleable__content\"><pre>RandomForestClassifier()</pre></div></div></div></div></div></div></div>"
      ],
      "text/plain": [
       "Pipeline(steps=[('preprocess',\n",
       "                 ColumnTransformer(transformers=[('categorical_preprocessing',\n",
       "                                                  OneHotEncoder(handle_unknown='ignore'),\n",
       "                                                  ['OriginCityMarketID',\n",
       "                                                   'RPCarrier', 'RoundTrip',\n",
       "                                                   'FareClass', 'OnLine']),\n",
       "                                                 ('numerical_preprocessing',\n",
       "                                                  StandardScaler(),\n",
       "                                                  ['FarePerMile',\n",
       "                                                   'Passengers'])])),\n",
       "                ('RFC', RandomForestClassifier())])"
      ]
     },
     "execution_count": 29,
     "metadata": {},
     "output_type": "execute_result"
    }
   ],
   "source": [
    "%%time \n",
    "RFC_pipe_fil.fit(X_train, y_train)"
   ]
  },
  {
   "cell_type": "code",
   "execution_count": 30,
   "id": "2eb37bee",
   "metadata": {},
   "outputs": [],
   "source": [
    "DTC_prediction = DTC_pipe_fil.predict(X_test)\n",
    "ETC_prediction = ETC_pipe_fil.predict(X_test)\n",
    "RFC_prediction = RFC_pipe_fil.predict(X_test)"
   ]
  },
  {
   "cell_type": "code",
   "execution_count": 31,
   "id": "afcfd77a",
   "metadata": {},
   "outputs": [
    {
     "name": "stdout",
     "output_type": "stream",
     "text": [
      "0.6357633742083277\n",
      "0.6158199703543997\n",
      "0.660018865382024\n"
     ]
    }
   ],
   "source": [
    "# Accuracy score is the simplest way to evaluate\n",
    "print(accuracy_score(DTC_prediction, y_test))\n",
    "print(accuracy_score(ETC_prediction, y_test))\n",
    "print(accuracy_score(RFC_prediction, y_test))"
   ]
  },
  {
   "cell_type": "code",
   "execution_count": 32,
   "id": "3da6ebb0",
   "metadata": {},
   "outputs": [
    {
     "name": "stdout",
     "output_type": "stream",
     "text": [
      "              precision    recall  f1-score   support\n",
      "\n",
      "   long-haul       0.57      0.57      0.57      1259\n",
      " medium-haul       0.55      0.57      0.56      2696\n",
      "  short-haul       0.73      0.71      0.72      3466\n",
      "\n",
      "    accuracy                           0.64      7421\n",
      "   macro avg       0.62      0.62      0.62      7421\n",
      "weighted avg       0.64      0.64      0.64      7421\n",
      "\n",
      "              precision    recall  f1-score   support\n",
      "\n",
      "   long-haul       0.55      0.53      0.54      1298\n",
      " medium-haul       0.53      0.54      0.54      2744\n",
      "  short-haul       0.71      0.71      0.71      3379\n",
      "\n",
      "    accuracy                           0.62      7421\n",
      "   macro avg       0.60      0.59      0.59      7421\n",
      "weighted avg       0.62      0.62      0.62      7421\n",
      "\n",
      "              precision    recall  f1-score   support\n",
      "\n",
      "   long-haul       0.57      0.60      0.58      1200\n",
      " medium-haul       0.57      0.59      0.58      2702\n",
      "  short-haul       0.77      0.74      0.75      3519\n",
      "\n",
      "    accuracy                           0.66      7421\n",
      "   macro avg       0.64      0.64      0.64      7421\n",
      "weighted avg       0.66      0.66      0.66      7421\n",
      "\n"
     ]
    }
   ],
   "source": [
    "# But Confusion Matrix and Classification Report give more details about performance\n",
    "print(classification_report(DTC_prediction, y_test))\n",
    "print(classification_report(ETC_prediction, y_test))\n",
    "print(classification_report(RFC_prediction, y_test))\n"
   ]
  },
  {
   "cell_type": "markdown",
   "id": "734451b5",
   "metadata": {},
   "source": [
    "### Trail 3"
   ]
  },
  {
   "cell_type": "code",
   "execution_count": 33,
   "id": "11245718",
   "metadata": {},
   "outputs": [],
   "source": [
    "DTC_pipe_fil = Pipeline([(\"preprocess\", ColumnTransformer([\n",
    "    ('categorical_preprocessing', encode, [ \n",
    "                    \"DestCityMarketID\",  \n",
    "                            \"RPCarrier\", \"RoundTrip\", \"FareClass\",'OnLine']),\n",
    "    ('numerical_preprocessing', scaler, [\"FarePerMile\",\"Passengers\"\n",
    "                            ])\n",
    "])), (\"DTC\", DecisionTreeClassifier())])\n",
    "\n",
    "\n",
    "ETC_pipe_fil = Pipeline([(\"preprocess\", ColumnTransformer([\n",
    "    ('categorical_preprocessing', encode, [ \n",
    "                    \"DestCityMarketID\", \n",
    "                            \"RPCarrier\", \"RoundTrip\", \"FareClass\",'OnLine']),\n",
    "    ('numerical_preprocessing', scaler, [\"FarePerMile\",\"Passengers\"\n",
    "                            ])\n",
    "])), (\"ETC\", ExtraTreeClassifier())])\n",
    "\n",
    "\n",
    "RFC_pipe_fil = Pipeline([(\"preprocess\", ColumnTransformer([\n",
    "    ('categorical_preprocessing', encode, [ \n",
    "                    \"DestCityMarketID\", \n",
    "                            \"RPCarrier\", \"RoundTrip\", \"FareClass\",'OnLine']),\n",
    "    ('numerical_preprocessing', scaler, [\"FarePerMile\",\"Passengers\"\n",
    "                            ])\n",
    "])), (\"RFC\", RandomForestClassifier())])\n"
   ]
  },
  {
   "cell_type": "code",
   "execution_count": 34,
   "id": "b35390c2",
   "metadata": {},
   "outputs": [
    {
     "name": "stdout",
     "output_type": "stream",
     "text": [
      "CPU times: user 1.86 s, sys: 45.9 ms, total: 1.9 s\n",
      "Wall time: 1.9 s\n"
     ]
    },
    {
     "data": {
      "text/html": [
       "<style>#sk-container-id-5 {color: black;background-color: white;}#sk-container-id-5 pre{padding: 0;}#sk-container-id-5 div.sk-toggleable {background-color: white;}#sk-container-id-5 label.sk-toggleable__label {cursor: pointer;display: block;width: 100%;margin-bottom: 0;padding: 0.3em;box-sizing: border-box;text-align: center;}#sk-container-id-5 label.sk-toggleable__label-arrow:before {content: \"▸\";float: left;margin-right: 0.25em;color: #696969;}#sk-container-id-5 label.sk-toggleable__label-arrow:hover:before {color: black;}#sk-container-id-5 div.sk-estimator:hover label.sk-toggleable__label-arrow:before {color: black;}#sk-container-id-5 div.sk-toggleable__content {max-height: 0;max-width: 0;overflow: hidden;text-align: left;background-color: #f0f8ff;}#sk-container-id-5 div.sk-toggleable__content pre {margin: 0.2em;color: black;border-radius: 0.25em;background-color: #f0f8ff;}#sk-container-id-5 input.sk-toggleable__control:checked~div.sk-toggleable__content {max-height: 200px;max-width: 100%;overflow: auto;}#sk-container-id-5 input.sk-toggleable__control:checked~label.sk-toggleable__label-arrow:before {content: \"▾\";}#sk-container-id-5 div.sk-estimator input.sk-toggleable__control:checked~label.sk-toggleable__label {background-color: #d4ebff;}#sk-container-id-5 div.sk-label input.sk-toggleable__control:checked~label.sk-toggleable__label {background-color: #d4ebff;}#sk-container-id-5 input.sk-hidden--visually {border: 0;clip: rect(1px 1px 1px 1px);clip: rect(1px, 1px, 1px, 1px);height: 1px;margin: -1px;overflow: hidden;padding: 0;position: absolute;width: 1px;}#sk-container-id-5 div.sk-estimator {font-family: monospace;background-color: #f0f8ff;border: 1px dotted black;border-radius: 0.25em;box-sizing: border-box;margin-bottom: 0.5em;}#sk-container-id-5 div.sk-estimator:hover {background-color: #d4ebff;}#sk-container-id-5 div.sk-parallel-item::after {content: \"\";width: 100%;border-bottom: 1px solid gray;flex-grow: 1;}#sk-container-id-5 div.sk-label:hover label.sk-toggleable__label {background-color: #d4ebff;}#sk-container-id-5 div.sk-serial::before {content: \"\";position: absolute;border-left: 1px solid gray;box-sizing: border-box;top: 0;bottom: 0;left: 50%;z-index: 0;}#sk-container-id-5 div.sk-serial {display: flex;flex-direction: column;align-items: center;background-color: white;padding-right: 0.2em;padding-left: 0.2em;position: relative;}#sk-container-id-5 div.sk-item {position: relative;z-index: 1;}#sk-container-id-5 div.sk-parallel {display: flex;align-items: stretch;justify-content: center;background-color: white;position: relative;}#sk-container-id-5 div.sk-item::before, #sk-container-id-5 div.sk-parallel-item::before {content: \"\";position: absolute;border-left: 1px solid gray;box-sizing: border-box;top: 0;bottom: 0;left: 50%;z-index: -1;}#sk-container-id-5 div.sk-parallel-item {display: flex;flex-direction: column;z-index: 1;position: relative;background-color: white;}#sk-container-id-5 div.sk-parallel-item:first-child::after {align-self: flex-end;width: 50%;}#sk-container-id-5 div.sk-parallel-item:last-child::after {align-self: flex-start;width: 50%;}#sk-container-id-5 div.sk-parallel-item:only-child::after {width: 0;}#sk-container-id-5 div.sk-dashed-wrapped {border: 1px dashed gray;margin: 0 0.4em 0.5em 0.4em;box-sizing: border-box;padding-bottom: 0.4em;background-color: white;}#sk-container-id-5 div.sk-label label {font-family: monospace;font-weight: bold;display: inline-block;line-height: 1.2em;}#sk-container-id-5 div.sk-label-container {text-align: center;}#sk-container-id-5 div.sk-container {/* jupyter's `normalize.less` sets `[hidden] { display: none; }` but bootstrap.min.css set `[hidden] { display: none !important; }` so we also need the `!important` here to be able to override the default hidden behavior on the sphinx rendered scikit-learn.org. See: https://github.com/scikit-learn/scikit-learn/issues/21755 */display: inline-block !important;position: relative;}#sk-container-id-5 div.sk-text-repr-fallback {display: none;}</style><div id=\"sk-container-id-5\" class=\"sk-top-container\"><div class=\"sk-text-repr-fallback\"><pre>Pipeline(steps=[(&#x27;preprocess&#x27;,\n",
       "                 ColumnTransformer(transformers=[(&#x27;categorical_preprocessing&#x27;,\n",
       "                                                  OneHotEncoder(handle_unknown=&#x27;ignore&#x27;),\n",
       "                                                  [&#x27;DestCityMarketID&#x27;,\n",
       "                                                   &#x27;RPCarrier&#x27;, &#x27;RoundTrip&#x27;,\n",
       "                                                   &#x27;FareClass&#x27;, &#x27;OnLine&#x27;]),\n",
       "                                                 (&#x27;numerical_preprocessing&#x27;,\n",
       "                                                  StandardScaler(),\n",
       "                                                  [&#x27;FarePerMile&#x27;,\n",
       "                                                   &#x27;Passengers&#x27;])])),\n",
       "                (&#x27;ETC&#x27;, ExtraTreeClassifier())])</pre><b>In a Jupyter environment, please rerun this cell to show the HTML representation or trust the notebook. <br />On GitHub, the HTML representation is unable to render, please try loading this page with nbviewer.org.</b></div><div class=\"sk-container\" hidden><div class=\"sk-item sk-dashed-wrapped\"><div class=\"sk-label-container\"><div class=\"sk-label sk-toggleable\"><input class=\"sk-toggleable__control sk-hidden--visually\" id=\"sk-estimator-id-29\" type=\"checkbox\" ><label for=\"sk-estimator-id-29\" class=\"sk-toggleable__label sk-toggleable__label-arrow\">Pipeline</label><div class=\"sk-toggleable__content\"><pre>Pipeline(steps=[(&#x27;preprocess&#x27;,\n",
       "                 ColumnTransformer(transformers=[(&#x27;categorical_preprocessing&#x27;,\n",
       "                                                  OneHotEncoder(handle_unknown=&#x27;ignore&#x27;),\n",
       "                                                  [&#x27;DestCityMarketID&#x27;,\n",
       "                                                   &#x27;RPCarrier&#x27;, &#x27;RoundTrip&#x27;,\n",
       "                                                   &#x27;FareClass&#x27;, &#x27;OnLine&#x27;]),\n",
       "                                                 (&#x27;numerical_preprocessing&#x27;,\n",
       "                                                  StandardScaler(),\n",
       "                                                  [&#x27;FarePerMile&#x27;,\n",
       "                                                   &#x27;Passengers&#x27;])])),\n",
       "                (&#x27;ETC&#x27;, ExtraTreeClassifier())])</pre></div></div></div><div class=\"sk-serial\"><div class=\"sk-item sk-dashed-wrapped\"><div class=\"sk-label-container\"><div class=\"sk-label sk-toggleable\"><input class=\"sk-toggleable__control sk-hidden--visually\" id=\"sk-estimator-id-30\" type=\"checkbox\" ><label for=\"sk-estimator-id-30\" class=\"sk-toggleable__label sk-toggleable__label-arrow\">preprocess: ColumnTransformer</label><div class=\"sk-toggleable__content\"><pre>ColumnTransformer(transformers=[(&#x27;categorical_preprocessing&#x27;,\n",
       "                                 OneHotEncoder(handle_unknown=&#x27;ignore&#x27;),\n",
       "                                 [&#x27;DestCityMarketID&#x27;, &#x27;RPCarrier&#x27;, &#x27;RoundTrip&#x27;,\n",
       "                                  &#x27;FareClass&#x27;, &#x27;OnLine&#x27;]),\n",
       "                                (&#x27;numerical_preprocessing&#x27;, StandardScaler(),\n",
       "                                 [&#x27;FarePerMile&#x27;, &#x27;Passengers&#x27;])])</pre></div></div></div><div class=\"sk-parallel\"><div class=\"sk-parallel-item\"><div class=\"sk-item\"><div class=\"sk-label-container\"><div class=\"sk-label sk-toggleable\"><input class=\"sk-toggleable__control sk-hidden--visually\" id=\"sk-estimator-id-31\" type=\"checkbox\" ><label for=\"sk-estimator-id-31\" class=\"sk-toggleable__label sk-toggleable__label-arrow\">categorical_preprocessing</label><div class=\"sk-toggleable__content\"><pre>[&#x27;DestCityMarketID&#x27;, &#x27;RPCarrier&#x27;, &#x27;RoundTrip&#x27;, &#x27;FareClass&#x27;, &#x27;OnLine&#x27;]</pre></div></div></div><div class=\"sk-serial\"><div class=\"sk-item\"><div class=\"sk-estimator sk-toggleable\"><input class=\"sk-toggleable__control sk-hidden--visually\" id=\"sk-estimator-id-32\" type=\"checkbox\" ><label for=\"sk-estimator-id-32\" class=\"sk-toggleable__label sk-toggleable__label-arrow\">OneHotEncoder</label><div class=\"sk-toggleable__content\"><pre>OneHotEncoder(handle_unknown=&#x27;ignore&#x27;)</pre></div></div></div></div></div></div><div class=\"sk-parallel-item\"><div class=\"sk-item\"><div class=\"sk-label-container\"><div class=\"sk-label sk-toggleable\"><input class=\"sk-toggleable__control sk-hidden--visually\" id=\"sk-estimator-id-33\" type=\"checkbox\" ><label for=\"sk-estimator-id-33\" class=\"sk-toggleable__label sk-toggleable__label-arrow\">numerical_preprocessing</label><div class=\"sk-toggleable__content\"><pre>[&#x27;FarePerMile&#x27;, &#x27;Passengers&#x27;]</pre></div></div></div><div class=\"sk-serial\"><div class=\"sk-item\"><div class=\"sk-estimator sk-toggleable\"><input class=\"sk-toggleable__control sk-hidden--visually\" id=\"sk-estimator-id-34\" type=\"checkbox\" ><label for=\"sk-estimator-id-34\" class=\"sk-toggleable__label sk-toggleable__label-arrow\">StandardScaler</label><div class=\"sk-toggleable__content\"><pre>StandardScaler()</pre></div></div></div></div></div></div></div></div><div class=\"sk-item\"><div class=\"sk-estimator sk-toggleable\"><input class=\"sk-toggleable__control sk-hidden--visually\" id=\"sk-estimator-id-35\" type=\"checkbox\" ><label for=\"sk-estimator-id-35\" class=\"sk-toggleable__label sk-toggleable__label-arrow\">ExtraTreeClassifier</label><div class=\"sk-toggleable__content\"><pre>ExtraTreeClassifier()</pre></div></div></div></div></div></div></div>"
      ],
      "text/plain": [
       "Pipeline(steps=[('preprocess',\n",
       "                 ColumnTransformer(transformers=[('categorical_preprocessing',\n",
       "                                                  OneHotEncoder(handle_unknown='ignore'),\n",
       "                                                  ['DestCityMarketID',\n",
       "                                                   'RPCarrier', 'RoundTrip',\n",
       "                                                   'FareClass', 'OnLine']),\n",
       "                                                 ('numerical_preprocessing',\n",
       "                                                  StandardScaler(),\n",
       "                                                  ['FarePerMile',\n",
       "                                                   'Passengers'])])),\n",
       "                ('ETC', ExtraTreeClassifier())])"
      ]
     },
     "execution_count": 34,
     "metadata": {},
     "output_type": "execute_result"
    }
   ],
   "source": [
    "%%time \n",
    "DTC_pipe_fil.fit(X_train, y_train)\n",
    "ETC_pipe_fil.fit(X_train, y_train)"
   ]
  },
  {
   "cell_type": "code",
   "execution_count": 35,
   "id": "68c11878",
   "metadata": {},
   "outputs": [
    {
     "name": "stdout",
     "output_type": "stream",
     "text": [
      "CPU times: user 29.2 s, sys: 617 ms, total: 29.8 s\n",
      "Wall time: 29.8 s\n"
     ]
    },
    {
     "data": {
      "text/html": [
       "<style>#sk-container-id-6 {color: black;background-color: white;}#sk-container-id-6 pre{padding: 0;}#sk-container-id-6 div.sk-toggleable {background-color: white;}#sk-container-id-6 label.sk-toggleable__label {cursor: pointer;display: block;width: 100%;margin-bottom: 0;padding: 0.3em;box-sizing: border-box;text-align: center;}#sk-container-id-6 label.sk-toggleable__label-arrow:before {content: \"▸\";float: left;margin-right: 0.25em;color: #696969;}#sk-container-id-6 label.sk-toggleable__label-arrow:hover:before {color: black;}#sk-container-id-6 div.sk-estimator:hover label.sk-toggleable__label-arrow:before {color: black;}#sk-container-id-6 div.sk-toggleable__content {max-height: 0;max-width: 0;overflow: hidden;text-align: left;background-color: #f0f8ff;}#sk-container-id-6 div.sk-toggleable__content pre {margin: 0.2em;color: black;border-radius: 0.25em;background-color: #f0f8ff;}#sk-container-id-6 input.sk-toggleable__control:checked~div.sk-toggleable__content {max-height: 200px;max-width: 100%;overflow: auto;}#sk-container-id-6 input.sk-toggleable__control:checked~label.sk-toggleable__label-arrow:before {content: \"▾\";}#sk-container-id-6 div.sk-estimator input.sk-toggleable__control:checked~label.sk-toggleable__label {background-color: #d4ebff;}#sk-container-id-6 div.sk-label input.sk-toggleable__control:checked~label.sk-toggleable__label {background-color: #d4ebff;}#sk-container-id-6 input.sk-hidden--visually {border: 0;clip: rect(1px 1px 1px 1px);clip: rect(1px, 1px, 1px, 1px);height: 1px;margin: -1px;overflow: hidden;padding: 0;position: absolute;width: 1px;}#sk-container-id-6 div.sk-estimator {font-family: monospace;background-color: #f0f8ff;border: 1px dotted black;border-radius: 0.25em;box-sizing: border-box;margin-bottom: 0.5em;}#sk-container-id-6 div.sk-estimator:hover {background-color: #d4ebff;}#sk-container-id-6 div.sk-parallel-item::after {content: \"\";width: 100%;border-bottom: 1px solid gray;flex-grow: 1;}#sk-container-id-6 div.sk-label:hover label.sk-toggleable__label {background-color: #d4ebff;}#sk-container-id-6 div.sk-serial::before {content: \"\";position: absolute;border-left: 1px solid gray;box-sizing: border-box;top: 0;bottom: 0;left: 50%;z-index: 0;}#sk-container-id-6 div.sk-serial {display: flex;flex-direction: column;align-items: center;background-color: white;padding-right: 0.2em;padding-left: 0.2em;position: relative;}#sk-container-id-6 div.sk-item {position: relative;z-index: 1;}#sk-container-id-6 div.sk-parallel {display: flex;align-items: stretch;justify-content: center;background-color: white;position: relative;}#sk-container-id-6 div.sk-item::before, #sk-container-id-6 div.sk-parallel-item::before {content: \"\";position: absolute;border-left: 1px solid gray;box-sizing: border-box;top: 0;bottom: 0;left: 50%;z-index: -1;}#sk-container-id-6 div.sk-parallel-item {display: flex;flex-direction: column;z-index: 1;position: relative;background-color: white;}#sk-container-id-6 div.sk-parallel-item:first-child::after {align-self: flex-end;width: 50%;}#sk-container-id-6 div.sk-parallel-item:last-child::after {align-self: flex-start;width: 50%;}#sk-container-id-6 div.sk-parallel-item:only-child::after {width: 0;}#sk-container-id-6 div.sk-dashed-wrapped {border: 1px dashed gray;margin: 0 0.4em 0.5em 0.4em;box-sizing: border-box;padding-bottom: 0.4em;background-color: white;}#sk-container-id-6 div.sk-label label {font-family: monospace;font-weight: bold;display: inline-block;line-height: 1.2em;}#sk-container-id-6 div.sk-label-container {text-align: center;}#sk-container-id-6 div.sk-container {/* jupyter's `normalize.less` sets `[hidden] { display: none; }` but bootstrap.min.css set `[hidden] { display: none !important; }` so we also need the `!important` here to be able to override the default hidden behavior on the sphinx rendered scikit-learn.org. See: https://github.com/scikit-learn/scikit-learn/issues/21755 */display: inline-block !important;position: relative;}#sk-container-id-6 div.sk-text-repr-fallback {display: none;}</style><div id=\"sk-container-id-6\" class=\"sk-top-container\"><div class=\"sk-text-repr-fallback\"><pre>Pipeline(steps=[(&#x27;preprocess&#x27;,\n",
       "                 ColumnTransformer(transformers=[(&#x27;categorical_preprocessing&#x27;,\n",
       "                                                  OneHotEncoder(handle_unknown=&#x27;ignore&#x27;),\n",
       "                                                  [&#x27;DestCityMarketID&#x27;,\n",
       "                                                   &#x27;RPCarrier&#x27;, &#x27;RoundTrip&#x27;,\n",
       "                                                   &#x27;FareClass&#x27;, &#x27;OnLine&#x27;]),\n",
       "                                                 (&#x27;numerical_preprocessing&#x27;,\n",
       "                                                  StandardScaler(),\n",
       "                                                  [&#x27;FarePerMile&#x27;,\n",
       "                                                   &#x27;Passengers&#x27;])])),\n",
       "                (&#x27;RFC&#x27;, RandomForestClassifier())])</pre><b>In a Jupyter environment, please rerun this cell to show the HTML representation or trust the notebook. <br />On GitHub, the HTML representation is unable to render, please try loading this page with nbviewer.org.</b></div><div class=\"sk-container\" hidden><div class=\"sk-item sk-dashed-wrapped\"><div class=\"sk-label-container\"><div class=\"sk-label sk-toggleable\"><input class=\"sk-toggleable__control sk-hidden--visually\" id=\"sk-estimator-id-36\" type=\"checkbox\" ><label for=\"sk-estimator-id-36\" class=\"sk-toggleable__label sk-toggleable__label-arrow\">Pipeline</label><div class=\"sk-toggleable__content\"><pre>Pipeline(steps=[(&#x27;preprocess&#x27;,\n",
       "                 ColumnTransformer(transformers=[(&#x27;categorical_preprocessing&#x27;,\n",
       "                                                  OneHotEncoder(handle_unknown=&#x27;ignore&#x27;),\n",
       "                                                  [&#x27;DestCityMarketID&#x27;,\n",
       "                                                   &#x27;RPCarrier&#x27;, &#x27;RoundTrip&#x27;,\n",
       "                                                   &#x27;FareClass&#x27;, &#x27;OnLine&#x27;]),\n",
       "                                                 (&#x27;numerical_preprocessing&#x27;,\n",
       "                                                  StandardScaler(),\n",
       "                                                  [&#x27;FarePerMile&#x27;,\n",
       "                                                   &#x27;Passengers&#x27;])])),\n",
       "                (&#x27;RFC&#x27;, RandomForestClassifier())])</pre></div></div></div><div class=\"sk-serial\"><div class=\"sk-item sk-dashed-wrapped\"><div class=\"sk-label-container\"><div class=\"sk-label sk-toggleable\"><input class=\"sk-toggleable__control sk-hidden--visually\" id=\"sk-estimator-id-37\" type=\"checkbox\" ><label for=\"sk-estimator-id-37\" class=\"sk-toggleable__label sk-toggleable__label-arrow\">preprocess: ColumnTransformer</label><div class=\"sk-toggleable__content\"><pre>ColumnTransformer(transformers=[(&#x27;categorical_preprocessing&#x27;,\n",
       "                                 OneHotEncoder(handle_unknown=&#x27;ignore&#x27;),\n",
       "                                 [&#x27;DestCityMarketID&#x27;, &#x27;RPCarrier&#x27;, &#x27;RoundTrip&#x27;,\n",
       "                                  &#x27;FareClass&#x27;, &#x27;OnLine&#x27;]),\n",
       "                                (&#x27;numerical_preprocessing&#x27;, StandardScaler(),\n",
       "                                 [&#x27;FarePerMile&#x27;, &#x27;Passengers&#x27;])])</pre></div></div></div><div class=\"sk-parallel\"><div class=\"sk-parallel-item\"><div class=\"sk-item\"><div class=\"sk-label-container\"><div class=\"sk-label sk-toggleable\"><input class=\"sk-toggleable__control sk-hidden--visually\" id=\"sk-estimator-id-38\" type=\"checkbox\" ><label for=\"sk-estimator-id-38\" class=\"sk-toggleable__label sk-toggleable__label-arrow\">categorical_preprocessing</label><div class=\"sk-toggleable__content\"><pre>[&#x27;DestCityMarketID&#x27;, &#x27;RPCarrier&#x27;, &#x27;RoundTrip&#x27;, &#x27;FareClass&#x27;, &#x27;OnLine&#x27;]</pre></div></div></div><div class=\"sk-serial\"><div class=\"sk-item\"><div class=\"sk-estimator sk-toggleable\"><input class=\"sk-toggleable__control sk-hidden--visually\" id=\"sk-estimator-id-39\" type=\"checkbox\" ><label for=\"sk-estimator-id-39\" class=\"sk-toggleable__label sk-toggleable__label-arrow\">OneHotEncoder</label><div class=\"sk-toggleable__content\"><pre>OneHotEncoder(handle_unknown=&#x27;ignore&#x27;)</pre></div></div></div></div></div></div><div class=\"sk-parallel-item\"><div class=\"sk-item\"><div class=\"sk-label-container\"><div class=\"sk-label sk-toggleable\"><input class=\"sk-toggleable__control sk-hidden--visually\" id=\"sk-estimator-id-40\" type=\"checkbox\" ><label for=\"sk-estimator-id-40\" class=\"sk-toggleable__label sk-toggleable__label-arrow\">numerical_preprocessing</label><div class=\"sk-toggleable__content\"><pre>[&#x27;FarePerMile&#x27;, &#x27;Passengers&#x27;]</pre></div></div></div><div class=\"sk-serial\"><div class=\"sk-item\"><div class=\"sk-estimator sk-toggleable\"><input class=\"sk-toggleable__control sk-hidden--visually\" id=\"sk-estimator-id-41\" type=\"checkbox\" ><label for=\"sk-estimator-id-41\" class=\"sk-toggleable__label sk-toggleable__label-arrow\">StandardScaler</label><div class=\"sk-toggleable__content\"><pre>StandardScaler()</pre></div></div></div></div></div></div></div></div><div class=\"sk-item\"><div class=\"sk-estimator sk-toggleable\"><input class=\"sk-toggleable__control sk-hidden--visually\" id=\"sk-estimator-id-42\" type=\"checkbox\" ><label for=\"sk-estimator-id-42\" class=\"sk-toggleable__label sk-toggleable__label-arrow\">RandomForestClassifier</label><div class=\"sk-toggleable__content\"><pre>RandomForestClassifier()</pre></div></div></div></div></div></div></div>"
      ],
      "text/plain": [
       "Pipeline(steps=[('preprocess',\n",
       "                 ColumnTransformer(transformers=[('categorical_preprocessing',\n",
       "                                                  OneHotEncoder(handle_unknown='ignore'),\n",
       "                                                  ['DestCityMarketID',\n",
       "                                                   'RPCarrier', 'RoundTrip',\n",
       "                                                   'FareClass', 'OnLine']),\n",
       "                                                 ('numerical_preprocessing',\n",
       "                                                  StandardScaler(),\n",
       "                                                  ['FarePerMile',\n",
       "                                                   'Passengers'])])),\n",
       "                ('RFC', RandomForestClassifier())])"
      ]
     },
     "execution_count": 35,
     "metadata": {},
     "output_type": "execute_result"
    }
   ],
   "source": [
    "%%time \n",
    "RFC_pipe_fil.fit(X_train, y_train)"
   ]
  },
  {
   "cell_type": "code",
   "execution_count": 36,
   "id": "580d0774",
   "metadata": {},
   "outputs": [],
   "source": [
    "DTC_prediction = DTC_pipe_fil.predict(X_test)\n",
    "ETC_prediction = ETC_pipe_fil.predict(X_test)\n",
    "RFC_prediction = RFC_pipe_fil.predict(X_test)"
   ]
  },
  {
   "cell_type": "code",
   "execution_count": 37,
   "id": "9e74d43f",
   "metadata": {},
   "outputs": [
    {
     "name": "stdout",
     "output_type": "stream",
     "text": [
      "0.6371109014957553\n",
      "0.6156852176256569\n",
      "0.6647352108880205\n"
     ]
    }
   ],
   "source": [
    "# Accuracy score is the simplest way to evaluate\n",
    "print(accuracy_score(DTC_prediction, y_test))\n",
    "print(accuracy_score(ETC_prediction, y_test))\n",
    "print(accuracy_score(RFC_prediction, y_test))"
   ]
  },
  {
   "cell_type": "code",
   "execution_count": 38,
   "id": "9dfd3b8d",
   "metadata": {},
   "outputs": [
    {
     "name": "stdout",
     "output_type": "stream",
     "text": [
      "              precision    recall  f1-score   support\n",
      "\n",
      "   long-haul       0.56      0.56      0.56      1260\n",
      " medium-haul       0.55      0.57      0.56      2691\n",
      "  short-haul       0.74      0.72      0.73      3470\n",
      "\n",
      "    accuracy                           0.64      7421\n",
      "   macro avg       0.62      0.62      0.62      7421\n",
      "weighted avg       0.64      0.64      0.64      7421\n",
      "\n",
      "              precision    recall  f1-score   support\n",
      "\n",
      "   long-haul       0.52      0.51      0.52      1272\n",
      " medium-haul       0.55      0.55      0.55      2793\n",
      "  short-haul       0.71      0.71      0.71      3356\n",
      "\n",
      "    accuracy                           0.62      7421\n",
      "   macro avg       0.59      0.59      0.59      7421\n",
      "weighted avg       0.62      0.62      0.62      7421\n",
      "\n",
      "              precision    recall  f1-score   support\n",
      "\n",
      "   long-haul       0.57      0.60      0.58      1190\n",
      " medium-haul       0.58      0.60      0.59      2715\n",
      "  short-haul       0.77      0.74      0.75      3516\n",
      "\n",
      "    accuracy                           0.66      7421\n",
      "   macro avg       0.64      0.64      0.64      7421\n",
      "weighted avg       0.67      0.66      0.67      7421\n",
      "\n"
     ]
    }
   ],
   "source": [
    "# But Confusion Matrix and Classification Report give more details about performance\n",
    "print(classification_report(DTC_prediction, y_test))\n",
    "print(classification_report(ETC_prediction, y_test))\n",
    "print(classification_report(RFC_prediction, y_test))"
   ]
  },
  {
   "cell_type": "code",
   "execution_count": null,
   "id": "cc16ccc7",
   "metadata": {},
   "outputs": [],
   "source": []
  }
 ],
 "metadata": {
  "kernelspec": {
   "display_name": "Python 3 (clean)",
   "language": "python",
   "name": "python3_clean"
  },
  "language_info": {
   "codemirror_mode": {
    "name": "ipython",
    "version": 3
   },
   "file_extension": ".py",
   "mimetype": "text/x-python",
   "name": "python",
   "nbconvert_exporter": "python",
   "pygments_lexer": "ipython3",
   "version": "3.9.5"
  }
 },
 "nbformat": 4,
 "nbformat_minor": 5
}
